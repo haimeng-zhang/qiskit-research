{
 "cells": [
  {
   "cell_type": "code",
   "execution_count": null,
   "id": "63f56ca9",
   "metadata": {},
   "outputs": [],
   "source": [
    "# This code is part of Qiskit.\n",
    "#\n",
    "# (C) Copyright IBM 2023.\n",
    "#\n",
    "# This code is licensed under the Apache License, Version 2.0. You may\n",
    "# obtain a copy of this license in the LICENSE.txt file in the root directory\n",
    "# of this source tree or at http://www.apache.org/licenses/LICENSE-2.0.\n",
    "#\n",
    "# Any modifications or derivative works of this code must retain this\n",
    "# copyright notice, and modified files need to carry a notice indicating\n",
    "# that they have been altered from the originals."
   ]
  },
  {
   "attachments": {},
   "cell_type": "markdown",
   "id": "3f704ce0",
   "metadata": {},
   "source": [
    "# Getting Started\n",
    "\n",
    "This notebook outlines the best operating practices for mapping a given quantum circuit to real IBM backends. The tools used within build on Qiskit yet not all are contained within this repository. This repository also contains custom transpiler passes that users may construct their own `PassManager`s from. "
   ]
  },
  {
   "cell_type": "code",
   "execution_count": 4,
   "id": "2d98425a",
   "metadata": {
    "ExecuteTime": {
     "end_time": "2022-07-04T15:29:26.272344Z",
     "start_time": "2022-07-04T15:29:23.767368Z"
    }
   },
   "outputs": [],
   "source": [
    "from qiskit import IBMQ, transpile\n",
    "from qiskit.circuit import Parameter, QuantumCircuit\n",
    "from qiskit.opflow import I, X, Z, PauliTrotterEvolution, Suzuki\n",
    "from qiskit.providers.fake_provider import FakeMumbai\n",
    "\n",
    "import numpy as np\n",
    "import matplotlib.pyplot as plt\n",
    "# plt.style.use(\"default\")\n",
    "plt.style.use(\"dark_background\")"
   ]
  },
  {
   "cell_type": "code",
   "execution_count": 5,
   "id": "dc93f698",
   "metadata": {},
   "outputs": [
    {
     "name": "stderr",
     "output_type": "stream",
     "text": [
      "ibmqfactory.load_account:WARNING:2022-11-30 13:25:05,780: Credentials are already in use. The existing account in the session will be replaced.\n"
     ]
    }
   ],
   "source": [
    "IBMQ.load_account()\n",
    "provider = IBMQ.get_provider(hub=\"\", group=\"\", project=\"\")"
   ]
  },
  {
   "attachments": {},
   "cell_type": "markdown",
   "id": "92c7af6d",
   "metadata": {},
   "source": [
    "## Problem: Quantum Simulation\n",
    "\n",
    "As an example, we'll use the problem statement from [this manuscript](https://arxiv.org/abs/2108.09197), the quantum simulation of an Ising model Hamiltonian:\n",
    "$$\n",
    "H = -J \\sum_{\\langle i,j \\rangle} Z_i Z_j + h \\sum_i X_i\n",
    "$$\n",
    "where $J$ is the exchange coupling between adjacent spins and $h$ is the transverse magnetic field. Here $X_i$ and $Z_j$ are the Pauli matrices acting on qubits $i$ and $j$, respectively. This model describes an interacting system of spins in a magnetic field, which is normally a nearest-neighbor interaction, in order to highlight the mapping of this problem to quantum hardware, we make it an all-to-all interaction. <br> <br>\n",
    "\n",
    "We will use tools from `qiskit.opflow` to generate the circuits needed for the simulation. The Hamiltonian $H$ is formed by instantiating `Parameter`s and building the interactions from the Pauli matrices `I`, `X`, and `Z` by concatenating them in tensor products ($\\otimes$) represented in `opflow` by the caret symbol `^`. The formal solution to Schrödinger's equation is\n",
    "$$\n",
    "U = e^{-iHt},\n",
    "$$\n",
    "the *time-evolution unitary* corresponding to Hamiltonian evolution under $H$, and is found formally using the `.exp_i()` on an operator expression."
   ]
  },
  {
   "cell_type": "code",
   "execution_count": 6,
   "id": "856dff41",
   "metadata": {
    "ExecuteTime": {
     "end_time": "2022-07-04T15:29:27.189309Z",
     "start_time": "2022-07-04T15:29:26.279076Z"
    },
    "scrolled": false
   },
   "outputs": [],
   "source": [
    "num_spins = 3\n",
    "\n",
    "JJ = Parameter(\"J\")\n",
    "hh = Parameter(\"h\")\n",
    "tt = Parameter(\"t\")\n",
    "\n",
    "ham = -JJ * sum(\n",
    "    [\n",
    "        sum(\n",
    "            [\n",
    "                (I ^ idx) ^ Z ^ (I ^ jdx) ^ Z ^ (I ^ (num_spins - idx - jdx - 2))\n",
    "                for jdx in range(num_spins - idx - 1)\n",
    "            ]\n",
    "        )\n",
    "        for idx in range(num_spins - 1)\n",
    "    ]\n",
    ") + hh * sum([(I ^ idx) ^ X ^ (I ^ (num_spins - idx - 1)) for idx in range(num_spins)])\n",
    "U_ham = (ham * tt).exp_i()\n",
    "print(U_ham)"
   ]
  },
  {
   "attachments": {},
   "cell_type": "markdown",
   "id": "9b713e5b",
   "metadata": {},
   "source": [
    "## Converting Operators to Circuits\n",
    "\n",
    "The `qiskit.opflow` module contains methods to convert the time-evolved operators (`EvolvedOp`s) to circuits. One common method is the Suzuki-Trotter decomposition, in which the total evolution time $t$ is broken into `num_steps` $N$. By choosing the second-order of the `PauliTrotterEvolution`, we create a circuit that acts like our unitary to second order $\\mathcal{O}((t/N)^2)$. \n",
    "\n",
    "Practically, since many of the following transpilation steps are computationally intensive, it may make sense to break up your circuit into smaller subcircuits, and then combine them together to get the final circuit. This is naturally acheived for Trotterized algorithms, since `reps` here just repeats the same circuit `num_steps` times, hence we just set `num_steps=1` and the resulting circuits can be combined into as many steps as desired later."
   ]
  },
  {
   "cell_type": "code",
   "execution_count": 11,
   "id": "76264beb",
   "metadata": {},
   "outputs": [],
   "source": [
    "num_steps = 1\n",
    "trot_circ = (\n",
    "    PauliTrotterEvolution(trotter_mode=Suzuki(order=2, reps=num_steps))\n",
    "    .convert(U_ham)\n",
    "    .to_circuit()\n",
    ")\n",
    "# trot_circ.draw(\"mpl\")\n",
    "# trot_circ.decompose().draw(\"mpl\")\n",
    "# trot_circ.decompose().decompose().draw(\"mpl\")"
   ]
  },
  {
   "attachments": {},
   "cell_type": "markdown",
   "id": "d3d7f498",
   "metadata": {},
   "source": [
    "## Transpile for Good SWAP Mapping\n",
    "\n",
    "In general problems must respect the layout of the actual quantum hardware. Due to limited connectivity, this often entails doing SWAP operations to move quantum information around. SWAPs are costly in the sense they consist of three `CX`s. The Qiskit transpiler with `optimization_level=3` uses the [SABRE SWAP method](https://arxiv.org/abs/1809.02573), which is efficient, however stochastic, since the SWAP-mapping problem is NP-hard. Here we do it several time and take the solution with the lowest CNOT count. This operation serves only to minimize the number of SWAPs in the transpiled circuits, and is not aware of noise on the underlying qubits. That is considered in a following step."
   ]
  },
  {
   "cell_type": "code",
   "execution_count": 12,
   "id": "bd67b483",
   "metadata": {
    "ExecuteTime": {
     "end_time": "2022-07-04T15:29:32.164235Z",
     "start_time": "2022-07-04T15:29:28.107249Z"
    },
    "scrolled": false
   },
   "outputs": [
    {
     "name": "stderr",
     "output_type": "stream",
     "text": [
      "/opt/anaconda3/envs/qiskit-dev/lib/python3.9/site-packages/numpy/linalg/linalg.py:2139: RuntimeWarning: divide by zero encountered in det\n",
      "  r = _umath_linalg.det(a, signature=signature)\n",
      "/opt/anaconda3/envs/qiskit-dev/lib/python3.9/site-packages/numpy/linalg/linalg.py:2139: RuntimeWarning: invalid value encountered in det\n",
      "  r = _umath_linalg.det(a, signature=signature)\n"
     ]
    },
    {
     "name": "stdout",
     "output_type": "stream",
     "text": [
      "[18, 18, 18, 18, 18, 18, 18, 18, 18, 18]\n"
     ]
    }
   ],
   "source": [
    "# TODO - check issue with floats not being rounded off\n",
    "\n",
    "num_tries = 10\n",
    "\n",
    "# backend = FakeMumbai()\n",
    "# backend = provider.get_backend('ibmq_mumbai')\n",
    "backend = provider.get_backend(\"ibm_lagos\")\n",
    "trot_circ_ts = transpile(\n",
    "    [trot_circ] * num_tries, backend, optimization_level=3, seed_transpiler=12345\n",
    ")\n",
    "cx_counts = [trot_circ_ts[idx].count_ops()[\"cx\"] for idx in range(num_tries)]\n",
    "print(cx_counts)"
   ]
  },
  {
   "cell_type": "code",
   "execution_count": 13,
   "id": "446229d4",
   "metadata": {
    "ExecuteTime": {
     "end_time": "2022-07-04T15:29:32.173026Z",
     "start_time": "2022-07-04T15:29:32.167226Z"
    }
   },
   "outputs": [],
   "source": [
    "best_idx = np.argmin(cx_counts)\n",
    "trot_circ_t = trot_circ_ts[best_idx]"
   ]
  },
  {
   "attachments": {},
   "cell_type": "markdown",
   "id": "781b20b2",
   "metadata": {},
   "source": [
    "## Noise-aware Layout\n",
    "\n",
    "Now that we have a SWAP-mapped optimal circuit, we consider the layouts on the actual quantum backend. These layouts are found by the VF2 subgraph isomorphism algorithm, which is very fast. Since the transpiler mapped the circuit to physical qubits, we must first \"deflate\" the circuits with `deflate_circuit` (which removes idle qubits), finds the layouts with `matching_layouts`, then scores those layouts due to error rates, which are calculated by a cost function that may be specified by the user, see [`mapomatic`](https://github.com/Qiskit-Partners/mapomatic) documentation for how. The default cost function includes errors determined for each qubit gates and measurements, although not decoherence/relaxation caused by idle time, producing an *infidelity score* where the lowest number is the preferred layout."
   ]
  },
  {
   "cell_type": "code",
   "execution_count": 14,
   "id": "f69e7d01",
   "metadata": {
    "ExecuteTime": {
     "end_time": "2022-07-04T15:29:32.216769Z",
     "start_time": "2022-07-04T15:29:32.177170Z"
    },
    "scrolled": true
   },
   "outputs": [
    {
     "ename": "ImportError",
     "evalue": "cannot import name 'get_ecr_pairs_from_backend' from 'qiskit_research.utils.pulse_scaling' (/Users/ntbronn/Documents/codebase/qiskit-research/qiskit_research/utils/pulse_scaling.py)",
     "output_type": "error",
     "traceback": [
      "\u001b[0;31m---------------------------------------------------------------------------\u001b[0m",
      "\u001b[0;31mImportError\u001b[0m                               Traceback (most recent call last)",
      "Cell \u001b[0;32mIn [14], line 2\u001b[0m\n\u001b[1;32m      1\u001b[0m \u001b[39mfrom\u001b[39;00m \u001b[39mmapomatic\u001b[39;00m \u001b[39mimport\u001b[39;00m deflate_circuit, evaluate_layouts, matching_layouts\n\u001b[0;32m----> 2\u001b[0m \u001b[39mfrom\u001b[39;00m \u001b[39mqiskit_research\u001b[39;00m\u001b[39m.\u001b[39;00m\u001b[39mutils\u001b[39;00m\u001b[39m.\u001b[39;00m\u001b[39mpulse_scaling\u001b[39;00m \u001b[39mimport\u001b[39;00m get_ecr_pairs_from_backend\n\u001b[1;32m      4\u001b[0m coupling_map \u001b[39m=\u001b[39m get_ecr_pairs_from_backend(backend)\n\u001b[1;32m      6\u001b[0m trot_circ_def \u001b[39m=\u001b[39m deflate_circuit(trot_circ_t)\n",
      "\u001b[0;31mImportError\u001b[0m: cannot import name 'get_ecr_pairs_from_backend' from 'qiskit_research.utils.pulse_scaling' (/Users/ntbronn/Documents/codebase/qiskit-research/qiskit_research/utils/pulse_scaling.py)"
     ]
    }
   ],
   "source": [
    "from mapomatic import deflate_circuit, evaluate_layouts, matching_layouts\n",
    "\n",
    "trot_circ_def = deflate_circuit(trot_circ_t)\n",
    "layouts = matching_layouts(trot_circ_def, backend)\n",
    "scored_layouts = evaluate_layouts(\n",
    "    trot_circ_def, layouts, backend\n",
    ")  # cost_function = cost_func\n",
    "print(scored_layouts)"
   ]
  },
  {
   "attachments": {},
   "cell_type": "markdown",
   "id": "abf874a1",
   "metadata": {},
   "source": [
    "## Pulse Scaling\n",
    "\n",
    "For certain problems, in particular Trotterized quantum simulation problems, or other algorithms that require small angles of rotation in the two-qubit Hilbert space, it is more efficient to implement operations in terms of pulses extracted from the CNOT gate. Basically, a CNOT gate is *locally-equivalent* to an $R_{ZX}(\\pi/2)$ rotation, meaning it is built from that and single-qubit rotations, as can be seen from the following code:"
   ]
  },
  {
   "cell_type": "code",
   "execution_count": null,
   "id": "d07c1600",
   "metadata": {
    "ExecuteTime": {
     "end_time": "2022-07-04T15:29:32.543299Z",
     "start_time": "2022-07-04T15:29:32.219802Z"
    }
   },
   "outputs": [],
   "source": [
    "# TODO: check out Weyl decomp stuff\n",
    "\n",
    "qc = QuantumCircuit(2)\n",
    "qc.cx(0, 1)\n",
    "qc_rzx = transpile(qc, basis_gates=[\"sx\", \"rz\", \"rzx\"])\n",
    "\n",
    "fig, (ax1, ax2) = plt.subplots(1, 2)\n",
    "qc.draw(\"mpl\", ax=ax1)\n",
    "qc_rzx.draw(\"mpl\", ax=ax2)"
   ]
  },
  {
   "attachments": {},
   "cell_type": "markdown",
   "id": "d81f1805",
   "metadata": {},
   "source": [
    "The `RZXGate` is very similar to the native two-qubit interation called [echoed cross resonance](https://arxiv.org/abs/1603.04821) which is used to create entanglement on IBM backends. In particular, many two-qubit interactions for quantum simulation, such as the $ZZ$-interaction of our Ising Hamiltonian, can be more efficiently represented (in terms of error) by $R_{ZX}(\\theta)$ rotations, which are automatically broken into scaled echoed cross resonance `secr` gates unless `unroll_rzx_to_ecr` is set to `False`."
   ]
  },
  {
   "cell_type": "code",
   "execution_count": null,
   "id": "b6365ce4",
   "metadata": {},
   "outputs": [],
   "source": [
    "from qiskit_research.utils.convenience import scale_cr_pulses\n",
    "\n",
    "theta = Parameter(\"$\\\\theta$\")\n",
    "\n",
    "qc = QuantumCircuit(2)\n",
    "qc.rzz(theta, 0, 1)\n",
    "qc_cx = transpile(qc, basis_gates=[\"rz\", \"sx\", \"cx\"])\n",
    "qc_rzx = scale_cr_pulses(qc_cx, backend)  # unroll_rzx_to_ecr = True, param_bind = {}\n",
    "\n",
    "fig, (ax1, ax2, ax3) = plt.subplots(1, 3, figsize=(15, 6))\n",
    "qc.draw(\"mpl\", ax=ax1)\n",
    "qc_cx.draw(\"mpl\", ax=ax2)\n",
    "qc_rzx.draw(\"mpl\", ax=ax3)\n",
    "ax2.set_title(\"These are all equivalent circuits\")"
   ]
  },
  {
   "attachments": {},
   "cell_type": "markdown",
   "id": "9b78ad89",
   "metadata": {
    "ExecuteTime": {
     "end_time": "2022-06-23T12:54:42.579431Z",
     "start_time": "2022-06-23T12:54:42.268911Z"
    }
   },
   "source": [
    "When we are implementing two-qubit rotation angles $\\theta$ less than $\\pi/2$, we can more efficiently express these interaction in terms of $R_{ZX}(\\theta)$ rotations and directly build them from scaled echoed cross resonance (`secr`($\\theta$)) pulses obtained from the backend, as detailed in [this manuscript](http://arxiv.org/abs/2012.11660). This method first uses a greedy algorithm called [template opimization](http://arxiv.org/abs/1909.05270) to identify parts of the circuit that can be substituted by $R_{ZX}$ rotations. If parameters are passed to the method via `param_bind`, it will bind them to the circuit and attach the necessary pulse gates for implementing the $R_{ZX}$ rotations (otherwise they can be bound and scaled later with `attach_cr_pulses`). Below we will do them separately, because we will attach a series of `Parameter`s as a function of time, and it is more efficient to do the template optimization step once since it is greedy and attaching the pulse schedules in quick."
   ]
  },
  {
   "cell_type": "code",
   "execution_count": null,
   "id": "fb662713",
   "metadata": {
    "ExecuteTime": {
     "end_time": "2022-07-04T15:30:28.806455Z",
     "start_time": "2022-07-04T15:29:32.546008Z"
    }
   },
   "outputs": [],
   "source": [
    "# my_layout = scored_layouts[0][0]  # the layout with the lowest score (i.e., error)\n",
    "my_layout = [8, 11, 14, 16] # debugging timing problem on \n",
    "trot_circ_sca = scale_cr_pulses(\n",
    "    transpile(trot_circ_def, initial_layout=my_layout), backend\n",
    ")\n",
    "trot_circ_sca.draw(\"mpl\", idle_wires=False)"
   ]
  },
  {
   "cell_type": "code",
   "execution_count": null,
   "id": "3412d8ed",
   "metadata": {
    "ExecuteTime": {
     "end_time": "2022-07-04T15:30:30.184640Z",
     "start_time": "2022-07-04T15:30:28.814278Z"
    }
   },
   "outputs": [],
   "source": [
    "from qiskit_research.utils.convenience import attach_cr_pulses\n",
    "\n",
    "num_time_steps = 51\n",
    "t_range = np.linspace(0, 10, num_time_steps)  # values from manuscript\n",
    "param_bind = {JJ: 0.5236, hh: 1}  # values from manuscript\n",
    "\n",
    "circs = build_ising_circuits(trot_circ_sca, backend, num_trotter_steps, my_layout, param_bind, t_range)\n",
    "# circs = build_ising_circuits(transpile(trot_circ_sca), backend, num_trotter_steps, [0, 1, 2, 3], param_bind, t_range)"
   ]
  },
  {
   "cell_type": "code",
   "execution_count": null,
   "id": "44c080e6",
   "metadata": {},
   "outputs": [],
   "source": [
    "circs[-1].draw('mpl', idle_wires=False)"
   ]
  },
  {
   "attachments": {},
   "cell_type": "markdown",
   "id": "5bbc0bc4",
   "metadata": {},
   "source": [
    "## Pauli Twirling\n",
    "\n",
    "Pauli twirling is a form of randomized compiling that inserts pairs of Pauli gates (`I`, `X`, `Y`, `Z`) before and after entangling gates such that the overall unitary is the same, but the way it is implemented is different. This has the effect of turning coherent errors into stochastic errors, which can then be elimated by sufficient averaging. This is done a number of times (`num_twirled_circuits`) for the benefit of averaging. **Note:** we are probably using an insufficient basis set to currently cancel all errors."
   ]
  },
  {
   "cell_type": "code",
   "execution_count": null,
   "id": "a1a178b4",
   "metadata": {
    "ExecuteTime": {
     "end_time": "2022-07-04T15:30:33.928988Z",
     "start_time": "2022-07-04T15:30:30.194717Z"
    }
   },
   "outputs": [],
   "source": [
    "from qiskit_research.utils.convenience import add_pauli_twirls\n",
    "\n",
    "num_twirls = 5\n",
    "# this returns a circuit with shape len(circs) x num_twirled_circuits\n",
    "twirled_circs = add_pauli_twirls(\n",
    "    circs, num_twirled_circuits=num_twirls, seed=12345\n",
    ")  # transpile_added_paulis = False"
   ]
  },
  {
   "cell_type": "code",
   "execution_count": null,
   "id": "e65db95c",
   "metadata": {
    "ExecuteTime": {
     "end_time": "2022-07-04T15:30:36.108324Z",
     "start_time": "2022-07-04T15:30:33.931670Z"
    }
   },
   "outputs": [],
   "source": [
    "twirled_circs[-1][-1].draw(\"mpl\", idle_wires=False)"
   ]
  },
  {
   "attachments": {},
   "cell_type": "markdown",
   "id": "1cc0b6e1",
   "metadata": {},
   "source": [
    "Look good! Now before proceeding to dynamical decoupling, we must convert to the native basis gates of the backend so that we can retrieve gate timing information, which is necessary to add dynamical decoupling passes. (Unless you set the keyword argument `transpile_added_paulis=True` in the above). You will also need to run this before running on a backend."
   ]
  },
  {
   "cell_type": "code",
   "execution_count": null,
   "id": "fe6d3bf9",
   "metadata": {
    "ExecuteTime": {
     "end_time": "2022-07-04T15:30:45.215839Z",
     "start_time": "2022-07-04T15:30:36.111161Z"
    }
   },
   "outputs": [],
   "source": [
    "from qiskit_research.utils.convenience import transpile_paulis\n",
    "\n",
    "twirled_circs_t = transpile_paulis(twirled_circs)"
   ]
  },
  {
   "attachments": {},
   "cell_type": "markdown",
   "id": "77ea5e92",
   "metadata": {},
   "source": [
    "## Dynamical Decoupling\n",
    "\n",
    "Dynamical decoupling (DD) is a way of modifying the noise power spectrum $S(\\omega)$ observed by qubits (see [this recent review](https://arxiv.org/abs/2207.03670)), and is typically implemented by a sequence of gates scheduled during a given qubit idle time that compose to the identity with specific delay times to fill the idle time in a calculated manner. Considerations for which sequences to use may involve decoherent error due to idle time versus single-qubit gate errors and/or crosstalk during two-qubit gates. Because the addition of gates is not always in the set of `basis_gates` defined by the backend, `add_pulse_cals=True` uses [Pulse Gates](https://qiskit.org/documentation/tutorials/circuits_advanced/05_pulse_gates.html) to add the correct implementation to the circuit with added DD."
   ]
  },
  {
   "cell_type": "code",
   "execution_count": null,
   "id": "3f421d43",
   "metadata": {
    "ExecuteTime": {
     "end_time": "2022-07-04T15:30:51.938755Z",
     "start_time": "2022-07-04T15:30:45.221042Z"
    }
   },
   "outputs": [],
   "source": [
    "from qiskit_research.utils.convenience import add_dynamical_decoupling\n",
    "\n",
    "# twirled_circs_with_dd = add_dynamical_decoupling(\n",
    "circs_with_dd = add_dynamical_decoupling(\n",
    "    # twirled_circs_t, backend, \"XpXm\", add_pulse_cals=True\n",
    "    circs, backend, \"X2pm\", add_pulse_cals=True\n",
    ")"
   ]
  },
  {
   "cell_type": "code",
   "execution_count": null,
   "id": "61ef6013",
   "metadata": {
    "ExecuteTime": {
     "end_time": "2022-07-04T15:30:52.840856Z",
     "start_time": "2022-07-04T15:30:51.940776Z"
    },
    "scrolled": true
   },
   "outputs": [],
   "source": [
    "from qiskit.visualization import timeline_drawer\n",
    "\n",
    "# this just displays a small range\n",
    "# timeline_drawer(twirled_circs_with_dd[-1][-1], time_range=[1, 20000], show_idle=False)\n",
    "timeline_drawer(circs_with_dd[0], time_range=[0, 1000], show_idle=False)"
   ]
  },
  {
   "cell_type": "code",
   "execution_count": null,
   "id": "43a8385b",
   "metadata": {},
   "outputs": [],
   "source": [
    "from qiskit import schedule\n",
    "from qiskit.pulse import ControlChannel, DriveChannel\n",
    "circ_sched = schedule(circs_with_dd[0], backend)"
   ]
  },
  {
   "cell_type": "code",
   "execution_count": null,
   "id": "a9dc3f02",
   "metadata": {},
   "outputs": [],
   "source": [
    "circ_sched.draw(time_range=[0, 1000])"
   ]
  },
  {
   "cell_type": "code",
   "execution_count": null,
   "id": "26b6582f",
   "metadata": {},
   "outputs": [],
   "source": [
    "from qiskit.pulse import Play\n",
    "for (time, inst) in circ_sched.instructions:\n",
    "    if isinstance(inst, Play):\n",
    "        print(time, inst)"
   ]
  },
  {
   "cell_type": "code",
   "execution_count": null,
   "id": "de0f73b4",
   "metadata": {},
   "outputs": [],
   "source": [
    "conf = backend.configuration()\n",
    "defs = backend.defaults()\n",
    "props = backend.properties()"
   ]
  },
  {
   "cell_type": "code",
   "execution_count": null,
   "id": "1471d1b1",
   "metadata": {},
   "outputs": [],
   "source": [
    "conf.control_channels"
   ]
  },
  {
   "cell_type": "code",
   "execution_count": null,
   "id": "6b39fef1",
   "metadata": {},
   "outputs": [],
   "source": [
    "d_chan = 8 # 14\n",
    "u_chan = 18 # 29\n",
    "\n",
    "for cidx, circ in enumerate(circs_with_dd):\n",
    "     circ_sched = schedule(circ, backend)\n",
    "     prev_end = 0\n",
    "     # for (time, inst) in circ_sched.filter(channels=[DriveChannel(14), ControlChannel(29)]).instructions:\n",
    "     for (time, inst) in circ_sched.filter(channels=[DriveChannel(d_chan), ControlChannel(u_chan)]).instructions:\n",
    "          # print('Circuit: {}, Time: {}, Drive: {}, Ctrl: {}'.format(cidx, time, inst.ch_duration(DriveChannel(14)), inst.ch_duration(ControlChannel(29))))\n",
    "          cur_time = time + inst.ch_duration(DriveChannel(d_chan)) + inst.ch_duration(ControlChannel(u_chan))\n",
    "          if (inst.ch_duration(DriveChannel(d_chan)) + inst.ch_duration(ControlChannel(u_chan))) > 0:\n",
    "               # print('{} - {}'.format(prev_end, time))\n",
    "               if (time < prev_end):\n",
    "                    print('Problem at time {} after time {} with circuit {} for Inst {}'.format(cur_time, prev_end, cidx, inst))\n",
    "          \n",
    "               prev_end = cur_time\n",
    "          # if (time+inst.ch_duration(DriveChannel(14)) < prev_end):\n",
    "          #      print('Problem at time {} with circuit {}'.format(prev_end, cidx))\n",
    "          # prev_end = time + inst.ch_duration(DriveChannel(14))"
   ]
  },
  {
   "cell_type": "code",
   "execution_count": null,
   "id": "15a19904",
   "metadata": {},
   "outputs": [],
   "source": [
    "# from qiskit_research.utils.cost_funcs import cost_func_scaled_cr\n",
    "# for circ in twirled_circs_with_dd[-1]:\n",
    "#     print(evaluate_layouts(circ, scored_layouts[0][0], backend, cost_function=cost_func_scaled_cr))"
   ]
  },
  {
   "attachments": {},
   "cell_type": "markdown",
   "id": "c372ad05",
   "metadata": {},
   "source": [
    "## Circuit Execution\n",
    "\n",
    "This runs the given circuits on the backend. This will be expanded to include different methods of running, i.e. Qiskit Runtime. "
   ]
  },
  {
   "cell_type": "code",
   "execution_count": null,
   "id": "85619f03",
   "metadata": {
    "ExecuteTime": {
     "start_time": "2022-07-04T15:29:23.806Z"
    }
   },
   "outputs": [],
   "source": [
    "from qiskit.providers.ibmq.managed import IBMQJobManager\n",
    "\n",
    "# # the backend only accepts a QuantumCircuit or List[QuantumCircuit]\n",
    "# flattened_circs = [\n",
    "#     # circ for circs in twirled_circs_with_dd for circ in circs\n",
    "#     circ for circs in twirled_circs for circ in circs\n",
    "\n",
    "# ] \n",
    "\n",
    "# Use Job Manager to break the circuits into multiple jobs.\n",
    "job_manager = IBMQJobManager()\n",
    "# ising_job_set = job_manager.run(circs, backend=backend, \n",
    "ising_job_set = job_manager.run(circs_with_dd, backend=backend, \n",
    "    name='Ising-t{}-Nt{}'.format(stop_time, num_trotter_steps), shots=5000)\n",
    "# ising_job_set = job_manager.run(flattened_circs, backend=backend, name='Ising-t{}-Nt{}-sim'.format(stop_time, num_trotter_steps))\n",
    "\n",
    "ising_job_set_id = ising_job_set.job_set_id()\n",
    "print(\"Job Set ID: {}\".format(ising_job_set_id))"
   ]
  },
  {
   "cell_type": "code",
   "execution_count": null,
   "id": "f1d9aeba",
   "metadata": {},
   "outputs": [],
   "source": [
    "ising_job_set_id = '7aec82091817425880af55e9d8e5f6f6-16667976273163059'\n",
    "# ising_job_sim_id = 'dc7f791b7b6f4e6bb09e094294f41019-16660448403650491'\n",
    "# job_manager = IBMQJobManager()\n",
    "# ising_job_set = job_manager.retrieve_job_set(job_set_id=ising_job_sim_id, provider=provider)"
   ]
  },
  {
   "cell_type": "code",
   "execution_count": null,
   "id": "ea16c881",
   "metadata": {},
   "outputs": [],
   "source": [
    "# the backend only accepts a QuantumCircuit or List[QuantumCircuit]\n",
    "flattened_circs = [\n",
    "    circ for circs in twirled_circs_with_dd for circ in circs\n",
    "]  # first 5 circs are same Pauli twirled circuit at same time\n",
    "counts = backend.run(flattened_circs).result().get_counts()"
   ]
  },
  {
   "attachments": {},
   "cell_type": "markdown",
   "id": "a6a0e63b",
   "metadata": {},
   "source": [
    "## Measurement Error Mitigation\n",
    "\n",
    "This uses `mthree` (matrix-free measurement mitigation) to do $LU$-decomposition on a readout calibration routine to efficently correct for readout errors. Note that `cals_from_system` runs an experiment on your chosen `backend` and then applies it to your results to calculate quasi-probabilities, with the default `num_shots=8192`."
   ]
  },
  {
   "cell_type": "code",
   "execution_count": null,
   "id": "f39910db",
   "metadata": {
    "ExecuteTime": {
     "start_time": "2022-07-04T15:29:23.816Z"
    }
   },
   "outputs": [],
   "source": [
    "from mthree import M3Mitigation\n",
    "\n",
    "mit = M3Mitigation(backend)\n",
    "mit.cals_from_system(my_layout)"
   ]
  },
  {
   "cell_type": "code",
   "execution_count": null,
   "id": "785fd00f",
   "metadata": {
    "ExecuteTime": {
     "start_time": "2022-07-04T15:29:23.818Z"
    }
   },
   "outputs": [],
   "source": [
    "# apply the correction\n",
    "quasi_probs = mit.apply_correction(counts, my_layout)"
   ]
  },
  {
   "cell_type": "code",
   "execution_count": null,
   "id": "3130b45f",
   "metadata": {},
   "outputs": [],
   "source": [
    "from helper import combine_twirled_data, combine_mag_data\n",
    "twirled_test = combine_twirled_data(counts, num_twirls)\n",
    "mag_test = combine_mag_data(twirled_test)"
   ]
  },
  {
   "cell_type": "code",
   "execution_count": null,
   "id": "0efbe039",
   "metadata": {},
   "outputs": [],
   "source": [
    "counts"
   ]
  },
  {
   "cell_type": "code",
   "execution_count": null,
   "id": "cc711518",
   "metadata": {},
   "outputs": [],
   "source": [
    "from helper import combine_twirled_data, combine_mag_data\n",
    "\n",
    "twirled_data = combine_twirled_data(quasi_probs, num_twirls)\n",
    "mag_data = combine_mag_data(twirled_data)"
   ]
  },
  {
   "cell_type": "code",
   "execution_count": null,
   "id": "63e369f0",
   "metadata": {},
   "outputs": [],
   "source": [
    "mag_vec_data = {\"x\": [], \"y\": [], \"z\": []}\n",
    "\n",
    "for tidx, _ in enumerate(t_range):\n",
    "    mag_vec_data[\"x\"].append(sum([1-2*sum([value for key, value in mag_data[\"x\"][tidx].items() \n",
    "        if key[num_spins-qidx-1] == '1']) for qidx, _ in enumerate(my_layout)])/num_spins)\n",
    "    mag_vec_data[\"y\"].append(sum([1-2*sum([value for key, value in mag_data[\"y\"][tidx].items() \n",
    "        if key[num_spins-qidx-1] == '1']) for qidx, _ in enumerate(my_layout)])/num_spins)\n",
    "    mag_vec_data[\"z\"].append(sum([1-2*sum([value for key, value in mag_data['z'][tidx].items() \n",
    "        if key[num_spins-qidx-1] == '1']) for qidx, _ in enumerate(my_layout)])/num_spins)"
   ]
  },
  {
   "cell_type": "code",
   "execution_count": null,
   "id": "aace0266",
   "metadata": {},
   "outputs": [],
   "source": [
    "1-2*sum([value for key, value in mag_data['x'][0].items() if key[0] == '1'])"
   ]
  },
  {
   "cell_type": "code",
   "execution_count": null,
   "id": "4ccefa5e",
   "metadata": {},
   "outputs": [],
   "source": [
    "1-2*sum([value for key, value in mag_data['x'][0].items() if key[0] == '1'])"
   ]
  },
  {
   "cell_type": "code",
   "execution_count": null,
   "id": "381196ae",
   "metadata": {},
   "outputs": [],
   "source": [
    "mag_data['y'][0]"
   ]
  },
  {
   "cell_type": "code",
   "execution_count": null,
   "id": "baeb1dcb",
   "metadata": {},
   "outputs": [],
   "source": [
    "sum([value for key, value in mag_data['z'][0].items() if key[0] == '0'])"
   ]
  },
  {
   "cell_type": "code",
   "execution_count": null,
   "id": "bb22c008",
   "metadata": {},
   "outputs": [],
   "source": [
    "pnts = [mag_vec_data[\"x\"], mag_vec_data[\"y\"], mag_vec_data[\"z\"]]\n",
    "\n",
    "plt.rcParams[\"figure.figsize\"] = [7, 7]\n",
    "plt.rcParams[\"figure.autolayout\"] = True\n",
    "fig = plt.figure()\n",
    "ax = fig.add_subplot(projection='3d')\n",
    "u, v = np.mgrid[0:2 * np.pi:30j, 0:np.pi:20j]\n",
    "x = np.cos(u) * np.sin(v)\n",
    "y = np.sin(u) * np.sin(v)\n",
    "z = np.cos(v)\n",
    "ax.plot_surface(x, y, z, cmap=plt.cm.YlGnBu_r, alpha=0.25, antialiased=False)\n",
    "ax.plot(pnts[0], pnts[1], pnts[2], color='r', lw=4.0, label='Exact')\n",
    "ax.set_title('Net Magnetization', fontsize=20)\n",
    "plt.axis('off')\n",
    "plt.show()"
   ]
  },
  {
   "cell_type": "code",
   "execution_count": null,
   "id": "bd5effec",
   "metadata": {},
   "outputs": [],
   "source": [
    "np.sqrt(np.asarray(mag_vec_data[\"x\"])**2 + np.asarray(mag_vec_data[\"y\"])**2 + np.asarray(mag_vec_data[\"z\"])**2)"
   ]
  },
  {
   "cell_type": "code",
   "execution_count": null,
   "id": "335f155d",
   "metadata": {},
   "outputs": [],
   "source": []
  },
  {
   "cell_type": "code",
   "execution_count": null,
   "id": "651984b6",
   "metadata": {},
   "outputs": [],
   "source": [
    "# collect quasi-probabilities from different Pauli twirls\n",
    "quasi_probs_twirled = []\n",
    "for time_idx in range(num_time_steps):\n",
    "    quasi_prob_twirled = {}\n",
    "    for twidx in range(num_twirls):\n",
    "        for key in quasi_probs[time_idx * num_twirls + twidx].keys():\n",
    "            try:\n",
    "                quasi_prob_twirled[key] += (\n",
    "                    quasi_probs[time_idx * num_twirls + twidx][key] / num_twirls\n",
    "                )\n",
    "            except:\n",
    "                quasi_prob_twirled[key] = (\n",
    "                    quasi_probs[time_idx * num_twirls + twidx][key] / num_twirls\n",
    "                )\n",
    "\n",
    "    quasi_probs_twirled.append(quasi_prob_twirled)"
   ]
  },
  {
   "cell_type": "code",
   "execution_count": null,
   "id": "84123be8",
   "metadata": {},
   "outputs": [],
   "source": [
    "# separate list of dicts into dict of lists\n",
    "quasi_probs_dict = {}\n",
    "for time_step in quasi_probs_twirled:\n",
    "    for key in time_step.keys():\n",
    "        try:\n",
    "            quasi_probs_dict[key].append(time_step[key])\n",
    "        except:\n",
    "            quasi_probs_dict[key] = [time_step[key]]"
   ]
  },
  {
   "cell_type": "code",
   "execution_count": null,
   "id": "d4a97e11",
   "metadata": {},
   "outputs": [],
   "source": [
    "# plot results\n",
    "fig, ax = plt.subplots(figsize=(12, 4))\n",
    "for key in quasi_probs_dict.keys():\n",
    "    ax.plot(t_range, quasi_probs_dict[key], lw=2, label=key)\n",
    "ax.set_xlabel(\"time step (arb)\")\n",
    "ax.set_ylabel(\"quasi-probability\")\n",
    "ax.legend(loc=4)\n",
    "plt.show()"
   ]
  },
  {
   "cell_type": "code",
   "execution_count": null,
   "id": "82d2e673",
   "metadata": {},
   "outputs": [],
   "source": [
    "from helper import exact_magnetization\n",
    "mags = exact_magnetization(U_ham, param_bind, t_range)"
   ]
  },
  {
   "cell_type": "code",
   "execution_count": null,
   "id": "f9ec74b9",
   "metadata": {},
   "outputs": [],
   "source": [
    "pnts = mags\n",
    "\n",
    "plt.rcParams[\"figure.figsize\"] = [7, 7]\n",
    "plt.rcParams[\"figure.autolayout\"] = True\n",
    "fig = plt.figure()\n",
    "ax = fig.add_subplot(projection='3d')\n",
    "u, v = np.mgrid[0:2 * np.pi:30j, 0:np.pi:20j]\n",
    "x = np.cos(u) * np.sin(v)\n",
    "y = np.sin(u) * np.sin(v)\n",
    "z = np.cos(v)\n",
    "ax.plot_surface(x, y, z, cmap=plt.cm.YlGnBu_r, alpha=0.25, antialiased=False)\n",
    "ax.plot(pnts[0], pnts[1], pnts[2], color='r', lw=4.0, label='Exact')\n",
    "ax.set_title('Net Magnetization', fontsize=20)\n",
    "plt.axis('off')\n",
    "plt.show()"
   ]
  },
  {
   "cell_type": "code",
   "execution_count": null,
   "id": "3aac4dc9",
   "metadata": {},
   "outputs": [],
   "source": [
    "pnts[2]"
   ]
  },
  {
   "cell_type": "code",
   "execution_count": null,
   "id": "7c180257",
   "metadata": {},
   "outputs": [],
   "source": []
  }
 ],
 "metadata": {
  "kernelspec": {
   "display_name": "Python 3 (ipykernel)",
   "language": "python",
   "name": "python3"
  },
  "language_info": {
   "codemirror_mode": {
    "name": "ipython",
    "version": 3
   },
   "file_extension": ".py",
   "mimetype": "text/x-python",
   "name": "python",
   "nbconvert_exporter": "python",
   "pygments_lexer": "ipython3",
   "version": "3.9.15"
  },
  "toc": {
   "base_numbering": 1,
   "nav_menu": {},
   "number_sections": true,
   "sideBar": true,
   "skip_h1_title": false,
   "title_cell": "Table of Contents",
   "title_sidebar": "Contents",
   "toc_cell": false,
   "toc_position": {},
   "toc_section_display": true,
   "toc_window_display": false
  },
  "vscode": {
   "interpreter": {
    "hash": "8456c57bfd786e7ecb3f5ed7c1ffcc6ffbbc5c784ac2fe81d532994c6e27a0dd"
   }
  }
 },
 "nbformat": 4,
 "nbformat_minor": 5
}
