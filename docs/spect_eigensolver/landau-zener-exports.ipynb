{
 "cells": [
  {
   "cell_type": "code",
   "execution_count": 1,
   "id": "a08169fb",
   "metadata": {
    "ExecuteTime": {
     "end_time": "2022-06-22T13:01:17.450461Z",
     "start_time": "2022-06-22T13:01:15.398953Z"
    }
   },
   "outputs": [],
   "source": [
    "exp_str = 'landau-zener m-sweep'\n",
    "\n",
    "from qiskit import IBMQ #, transpile #, schedule, pulse\n",
    "# from qiskit.circuit import Parameter, QuantumCircuit, QuantumRegister, ClassicalRegister\n",
    "# from qiskit.opflow import Y, Z, PauliTrotterEvolution, Suzuki\n",
    "# from qiskit_research import utils\n",
    "\n",
    "import numpy as np\n",
    "\n",
    "# import matplotlib.pyplot as plt\n",
    "# plt.style.use('dark_background')\n",
    "# plt.rcParams['figure.figsize'] = [5, 5]"
   ]
  },
  {
   "cell_type": "code",
   "execution_count": 2,
   "id": "fd25b812",
   "metadata": {
    "ExecuteTime": {
     "end_time": "2022-06-22T13:01:37.772618Z",
     "start_time": "2022-06-22T13:01:17.454869Z"
    }
   },
   "outputs": [],
   "source": [
    "IBMQ.load_account()\n",
    "try:\n",
    "    provider = IBMQ.get_provider(hub='ibm-q-internal', group='mission-critical', project='bronn')\n",
    "    backend = provider.get_backend('ibm_lagos')\n",
    "except:\n",
    "    provider = IBMQ.get_provider(hub='ibm-q-afrl', group='air-force-lab', project='quantum-sim')\n",
    "    backend = provider.get_backend('ibmq_bogota') # checking gate directions"
   ]
  },
  {
   "cell_type": "code",
   "execution_count": 3,
   "id": "33239a42",
   "metadata": {
    "ExecuteTime": {
     "end_time": "2022-06-22T13:01:37.791513Z",
     "start_time": "2022-06-22T13:01:37.775635Z"
    }
   },
   "outputs": [],
   "source": [
    "job_ids = ['62acb5bef09eced714e38b2c'] # 30 Trotter steps!"
   ]
  },
  {
   "cell_type": "code",
   "execution_count": 4,
   "id": "365218a4",
   "metadata": {
    "ExecuteTime": {
     "end_time": "2022-06-22T13:01:42.279795Z",
     "start_time": "2022-06-22T13:01:37.795660Z"
    }
   },
   "outputs": [],
   "source": [
    "job = backend.retrieve_job(job_ids[-1])\n",
    "result = job.result()\n",
    "metadata = result.header\n",
    "num_shots = result.results[0].shots\n",
    "counts = result.get_counts()"
   ]
  },
  {
   "cell_type": "code",
   "execution_count": 5,
   "id": "15c9be2f",
   "metadata": {
    "ExecuteTime": {
     "end_time": "2022-06-22T13:01:42.328370Z",
     "start_time": "2022-06-22T13:01:42.289288Z"
    }
   },
   "outputs": [
    {
     "data": {
      "text/plain": [
       "'m-sweep'"
      ]
     },
     "execution_count": 5,
     "metadata": {},
     "output_type": "execute_result"
    }
   ],
   "source": [
    "metadata.type"
   ]
  },
  {
   "cell_type": "code",
   "execution_count": 6,
   "id": "6e0d8d15",
   "metadata": {
    "ExecuteTime": {
     "end_time": "2022-06-22T13:01:42.357246Z",
     "start_time": "2022-06-22T13:01:42.340638Z"
    },
    "scrolled": true
   },
   "outputs": [],
   "source": [
    "if metadata.type == 'm-sweep':\n",
    "    m_range = np.array(metadata.m).round(4)\n",
    "    w_range = np.array(metadata.ω).round(4)\n",
    "    g_set = metadata.g\n",
    "    c_set = metadata.c\n",
    "    t_set = metadata.t\n",
    "    dt_set = metadata.dt\n",
    "    Nt = metadata.trotter"
   ]
  },
  {
   "cell_type": "code",
   "execution_count": 7,
   "id": "7dcfaf6b",
   "metadata": {
    "ExecuteTime": {
     "end_time": "2022-06-22T13:01:42.384350Z",
     "start_time": "2022-06-22T13:01:42.366927Z"
    }
   },
   "outputs": [],
   "source": [
    "Zexp_m_w = []\n",
    "for midx,_ in enumerate(m_range):\n",
    "    Zexp_w = []\n",
    "    for widx,_ in enumerate(w_range):\n",
    "        count = counts[widx + midx*len(w_range)]\n",
    "        if '1' in count:\n",
    "            Zexp_w.append((1 - 2*count['1']/num_shots))\n",
    "        else:\n",
    "            Zexp_w.append(1)\n",
    "            \n",
    "    Zexp_m_w.append(Zexp_w)"
   ]
  },
  {
   "cell_type": "code",
   "execution_count": 15,
   "id": "9ec739eb",
   "metadata": {
    "ExecuteTime": {
     "end_time": "2022-06-22T13:09:04.210120Z",
     "start_time": "2022-06-22T13:09:04.016739Z"
    }
   },
   "outputs": [],
   "source": [
    "if metadata.type == 'm-sweep':\n",
    "    for m_analyze in m_range:\n",
    "        midx = int(np.where(np.round(np.asarray(m_range), 2) == m_analyze)[0])\n",
    "        idx0 = midx*len(w_range) # starting index\n",
    "        w0 = w_range[0]\n",
    "        dw = round(w_range[1] - w_range[0], 2)\n",
    "\n",
    "        param_decoder = ['g='+str(round(g_set, 2))+', m=' + str(round(m_analyze, 2)) + \n",
    "                                  ', w=' + str(round(w0, 2))]\n",
    "    \n",
    "        np.save('Data/landau-zener/c0p1_g1p5/N30/SE_1trot_N_2_c_'+str(c_set)+'_dt_'+str(dt_set)+'_t_'+str(t_set)+'_w0_'+str(w0)+'_dw_'+str(dw)+'_m_'+str(m_analyze)+'_g_'+str(g_set), Zexp_m_w)\n",
    "        np.save('Data/landau-zener/c0p1_g1p5/N30/w_N_2_c_'+str(c_set)+'_dt_'+str(dt_set)+'_t_'+str(t_set)+'_w0_'+str(w0)+'_dw_'+str(dw)+'_m_'+str(m_analyze)+'_g_'+str(g_set), w_range)\n",
    "        np.save('Data/landau-zener/c0p1_g1p5/N30/decoder_N_2_c_'+str(c_set)+'_dt_'+str(dt_set)+'_t_'+str(t_set)+'_w0_'+str(w0)+'_dw_'+str(dw)+'_m_'+str(m_analyze)+'_g_'+str(g_set), param_decoder)\n"
   ]
  },
  {
   "cell_type": "code",
   "execution_count": null,
   "id": "8fb1a182",
   "metadata": {
    "ExecuteTime": {
     "end_time": "2022-06-22T13:01:42.921751Z",
     "start_time": "2022-06-22T13:01:15.388Z"
    }
   },
   "outputs": [],
   "source": [
    "import qiskit.tools.jupyter\n",
    "%qiskit_version_table"
   ]
  }
 ],
 "metadata": {
  "kernelspec": {
   "display_name": "qiskit (dev)",
   "language": "python",
   "name": "qiskit-dev"
  },
  "language_info": {
   "codemirror_mode": {
    "name": "ipython",
    "version": 3
   },
   "file_extension": ".py",
   "mimetype": "text/x-python",
   "name": "python",
   "nbconvert_exporter": "python",
   "pygments_lexer": "ipython3",
   "version": "3.9.4"
  },
  "toc": {
   "base_numbering": 1,
   "nav_menu": {},
   "number_sections": true,
   "sideBar": true,
   "skip_h1_title": false,
   "title_cell": "Table of Contents",
   "title_sidebar": "Contents",
   "toc_cell": false,
   "toc_position": {},
   "toc_section_display": true,
   "toc_window_display": false
  }
 },
 "nbformat": 4,
 "nbformat_minor": 5
}
