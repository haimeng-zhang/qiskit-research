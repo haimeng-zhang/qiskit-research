{
 "cells": [
  {
   "cell_type": "code",
   "execution_count": 1,
   "id": "18df968e",
   "metadata": {},
   "outputs": [],
   "source": [
    "# This code is part of Qiskit.\n",
    "#\n",
    "# (C) Copyright IBM 2022.\n",
    "#\n",
    "# This code is licensed under the Apache License, Version 2.0. You may\n",
    "# obtain a copy of this license in the LICENSE.txt file in the root directory\n",
    "# of this source tree or at http://www.apache.org/licenses/LICENSE-2.0.\n",
    "#\n",
    "# Any modifications or derivative works of this code must retain this\n",
    "# copyright notice, and modified files need to carry a notice indicating\n",
    "# that they have been altered from the originals."
   ]
  },
  {
   "cell_type": "markdown",
   "id": "1f1cd11c",
   "metadata": {},
   "source": [
    "## Prerequisites"
   ]
  },
  {
   "cell_type": "markdown",
   "id": "692e7e43",
   "metadata": {},
   "source": [
    "### Load Qiskit and Required Libraries"
   ]
  },
  {
   "cell_type": "code",
   "execution_count": 2,
   "id": "01e93d11",
   "metadata": {},
   "outputs": [],
   "source": [
    "run_experiment = False\n",
    "dynamical_decoupling = False\n",
    "\n",
    "from qiskit import IBMQ, transpile, schedule, pulse\n",
    "from qiskit.circuit import Parameter, QuantumCircuit, QuantumRegister, ClassicalRegister\n",
    "from qiskit.circuit.library import XGate, YGate\n",
    "from qiskit.pulse import DriveChannel\n",
    "from qiskit.providers.fake_provider import FakeMumbai\n",
    "from qiskit.providers.ibmq.managed import IBMQJobManager\n",
    "import qiskit.quantum_info as qi\n",
    "\n",
    "from qiskit_nature.operators.second_quantization import FermionicOp\n",
    "from qiskit_nature.mappers.second_quantization import JordanWignerMapper\n",
    "from qiskit_nature.converters.second_quantization.qubit_converter import QubitConverter\n",
    "\n",
    "from qiskit.opflow import (I, X, Y, Z, Zero, One, MatrixEvolution, PauliTrotterEvolution, Suzuki,\n",
    "                           StateFn, Zero, One, PauliExpectation, PauliOp, SummedOp, OperatorBase)\n",
    "\n",
    "from qiskit.transpiler import PassManager, InstructionDurations\n",
    "from qiskit.transpiler.passes import TemplateOptimization, ALAPSchedule, DynamicalDecoupling\n",
    "from qiskit.transpiler.passes.calibration import RZXCalibrationBuilder, rzx_templates\n",
    "\n",
    "from qiskit.converters import circuit_to_dag, dag_to_circuit # for bespoke transpilation\n",
    "from qiskit.dagcircuit import DAGCircuit, DAGNode\n",
    "\n",
    "from qiskit.scheduler.config import ScheduleConfig\n",
    "from qiskit.visualization import plot_circuit_layout, plot_error_map, timeline_drawer\n",
    "\n",
    "import copy\n",
    "import numpy as np\n",
    "import scipy.linalg as lng\n",
    "import matplotlib.pyplot as plt\n",
    "plt.style.use('dark_background')\n",
    "plt.rcParams['figure.figsize'] = [5, 5]"
   ]
  },
  {
   "cell_type": "markdown",
   "id": "4f0796a2",
   "metadata": {},
   "source": [
    "### Load IBM Quantum Account\n",
    "Try Nick's then John's."
   ]
  },
  {
   "cell_type": "code",
   "execution_count": 3,
   "id": "82b5bd2a",
   "metadata": {},
   "outputs": [],
   "source": [
    "IBMQ.load_account()\n",
    "provider = IBMQ.get_provider(hub='ibm-q-internal', group='deployed', project='default')\n",
    "backend = provider.get_backend('ibm_lagos')\n",
    "# backend = FakeMumbai()"
   ]
  },
  {
   "cell_type": "markdown",
   "id": "7f3ebc9e",
   "metadata": {},
   "source": [
    "### Load Backend Information (for Pulse)"
   ]
  },
  {
   "cell_type": "code",
   "execution_count": 4,
   "id": "d7de255a",
   "metadata": {},
   "outputs": [],
   "source": [
    "# backend_config = backend.configuration()\n",
    "# dt = backend_config.dt\n",
    "# meas_map = backend_config.meas_map\n",
    "\n",
    "# backend_defaults = backend.defaults()\n",
    "# inst_sched_map = backend_defaults.instruction_schedule_map\n",
    "\n",
    "# sched_config = ScheduleConfig(inst_sched_map, meas_map, dt)"
   ]
  },
  {
   "cell_type": "markdown",
   "id": "23ec975b",
   "metadata": {},
   "source": [
    "# Build Circuits from Model Hamiltonian"
   ]
  },
  {
   "cell_type": "markdown",
   "id": "b530f4a8",
   "metadata": {},
   "source": [
    "## Define the System Hamiltonian\n",
    "\n",
    "John wrote down the system Hamiltonian as\n",
    "\n",
    "$$ H = \\mu\\sum_{i=0}^N c^{\\dagger}_i c_i + t \\sum_{i=0}^{N-1} (c^{\\dagger}_ic_{i+1} + c^{\\dagger}_{i+1}c_i) + \\Delta \\sum_{i=0}^{N-1}(c^{\\dagger}_i c^{\\dagger}_{i+1} + c_{i+1}c_i) + U \\sum_{i=0}^{N-1} c^{\\dagger}_i c_i c^{\\dagger}_{i+1} c_{i+1} $$\n",
    "\n",
    "where we can use the new `FermionicOp` class to write this general Hamiltonian for 2 site."
   ]
  },
  {
   "cell_type": "markdown",
   "id": "4928146b",
   "metadata": {},
   "source": [
    "In terms of Majorana operators $\\gamma^x_i = c^{\\dagger}_i + c_i$ and $\\gamma^y_i = i(c^{\\dagger}_i - c_i)$ we have\n",
    "\n",
    "$$ H = -\\frac{2\\mu + U}{4} \\sum_{i=0}^N\\gamma^x_i\\gamma^y_i + \\frac{t+\\Delta}{2}\\sum_{i=0}^{N-1} \\gamma^x_i\\gamma^y_{i+1} + \\frac{t-\\Delta}{2} \\sum_{i=0}^{N-1} \\gamma^y_i\\gamma^x_{i+1} + \\frac{U}{4}  \\sum_{i=0}^{N-1}\\gamma^x_i\\gamma^y_i\\gamma^x_{i+1}\\gamma^y_{i+1}$$"
   ]
  },
  {
   "cell_type": "code",
   "execution_count": 5,
   "id": "54c2a897",
   "metadata": {},
   "outputs": [],
   "source": [
    "hm = sum(FermionicOp(label) for label in ['IN', 'NI'])\n",
    "ht = FermionicOp('+-') - FermionicOp('-+')\n",
    "hD = FermionicOp('++') - FermionicOp('--')\n",
    "hU = sum(FermionicOp(label) for label in ['NN'])"
   ]
  },
  {
   "cell_type": "markdown",
   "id": "aba8144d",
   "metadata": {},
   "source": [
    "### Transform Fermionic to Pauli Hamiltonian\n",
    "Bravyi-Kitaev and BKSuperFast are also built into Qiskit."
   ]
  },
  {
   "cell_type": "code",
   "execution_count": 6,
   "id": "c7553b71",
   "metadata": {},
   "outputs": [],
   "source": [
    "mapper = JordanWignerMapper()\n",
    "converter = QubitConverter(mapper=mapper) # should not give 2-qubit reduction error\n",
    "\n",
    "# parameters defined here due to incompatibility with Qiskit Nature\n",
    "mu = Parameter('μ')\n",
    "TT = Parameter('T')\n",
    "DD = Parameter('Δ')\n",
    "UU = Parameter('U')\n",
    "\n",
    "hm_pauli = mu*(converter.convert(hm))\n",
    "ht_pauli = TT*(converter.convert(ht))\n",
    "hD_pauli = DD*(converter.convert(hD))\n",
    "hU_pauli = UU*(converter.convert(hU))\n",
    "\n",
    "ham_pauli = hm_pauli + ht_pauli + hD_pauli + hU_pauli\n",
    "# print(ham_pauli)"
   ]
  },
  {
   "cell_type": "markdown",
   "id": "1b02ba18",
   "metadata": {},
   "source": [
    "## Build and Time Evolve Resonance Hamiltonian\n",
    "\n",
    "Converting John's notation to little-endian:\n",
    "$$H = -\\frac{1}{2}\\omega IIZ + H_{\\rm Pauli}\\otimes I + c IXX$$\n",
    "Parsing in `opflow` is very dependent on how you build Hamiltonian."
   ]
  },
  {
   "cell_type": "code",
   "execution_count": 7,
   "id": "a19bb497",
   "metadata": {},
   "outputs": [],
   "source": [
    "from qiskit_research.spect_eigensolver.experiment import build_resonance_ham\n",
    "cc = Parameter('c')\n",
    "ww = Parameter('ω')\n",
    "tt = Parameter('t')\n",
    "res_ham = build_resonance_ham(ham_pauli, cc, ww)\n",
    "U_ham = (tt*res_ham).exp_i()\n",
    "# print(U_ham)\n"
   ]
  },
  {
   "cell_type": "markdown",
   "id": "c033e8d0",
   "metadata": {},
   "source": [
    "## Trotterize Unitary Evolution Operator\n",
    "Why do random subcircuit appear sometimes? One hypothesis: parsing each coefficient with `Parameter`s expanded vs being multiplied by a grouping of `PauliOp`s might be it (observed this behavior at Heidelberg workshop)."
   ]
  },
  {
   "cell_type": "code",
   "execution_count": 8,
   "id": "ffa5fe3c",
   "metadata": {},
   "outputs": [],
   "source": [
    "# second-order Suzuki was used for manuscript\n",
    "trot_op = PauliTrotterEvolution(trotter_mode=Suzuki(order=1, reps=1)).convert(U_ham)\n",
    "trot_circ = trot_op.to_circuit()\n",
    "# trot_circ.draw(output='mpl', reverse_bits=True)"
   ]
  },
  {
   "cell_type": "code",
   "execution_count": 9,
   "id": "bd99dd34",
   "metadata": {},
   "outputs": [
    {
     "data": {
      "image/png": "[encoded data removed]",
      "text/plain": [
       "<Figure size 1591.6x445.48 with 1 Axes>"
      ]
     },
     "execution_count": 9,
     "metadata": {},
     "output_type": "execute_result"
    }
   ],
   "source": [
    "# the circuit may be specified in Pauli Evolution gatee\n",
    "basis_gates = ['rz', 'x', 'sx', 'cx']\n",
    "trot_circ_b = transpile(trot_circ, basis_gates=basis_gates)\n",
    "trot_circ_b.draw('mpl')"
   ]
  },
  {
   "cell_type": "code",
   "execution_count": 10,
   "id": "5eb88fa5",
   "metadata": {},
   "outputs": [
    {
     "name": "stdout",
     "output_type": "stream",
     "text": [
      "Score is 0.05975908811654129 for layout [0, 1, 2]\n"
     ]
    }
   ],
   "source": [
    "from mapomatic import evaluate_layouts, matching_layouts\n",
    "\n",
    "best_layout = evaluate_layouts(trot_circ_b, \n",
    "                             matching_layouts(trot_circ_b, backend), backend)[0]\n",
    "my_layout = best_layout[0]\n",
    "my_score = best_layout[1]\n",
    "\n",
    "print('Score is '+str(my_score)+' for layout '+str(my_layout))"
   ]
  },
  {
   "cell_type": "markdown",
   "id": "418072d3",
   "metadata": {},
   "source": [
    "## Template Optimization and Basic Transpilation"
   ]
  },
  {
   "cell_type": "code",
   "execution_count": 11,
   "id": "aa34eb18",
   "metadata": {},
   "outputs": [
    {
     "data": {
      "image/png": "[encoded data removed]",
      "text/plain": [
       "<Figure size 1591.6x686.28 with 1 Axes>"
      ]
     },
     "execution_count": 11,
     "metadata": {},
     "output_type": "execute_result"
    }
   ],
   "source": [
    "from qiskit_research.utils.convenience import scale_cr_pulses\n",
    "\n",
    "\n",
    "trot_circ_t = scale_cr_pulses(transpile(trot_circ_b, \n",
    "            initial_layout=my_layout,\n",
    "            basis_gates=basis_gates), backend, \n",
    "            force_zz_matches=True, # TODO: seems that this does not work for more complicated parameter expressions\n",
    "            unroll_rzx_to_ecr=False)\n",
    "\n",
    "trot_circ_t.draw('mpl', idle_wires=False)"
   ]
  },
  {
   "cell_type": "markdown",
   "id": "d8fefb35",
   "metadata": {},
   "source": [
    "# Build Sweep Experiment"
   ]
  },
  {
   "cell_type": "markdown",
   "id": "a689c01e",
   "metadata": {},
   "source": [
    "## Set Model Hamiltonian Parameters"
   ]
  },
  {
   "cell_type": "markdown",
   "id": "22d9a075",
   "metadata": {},
   "source": [
    "Grouping by terms, the Model Hamiltonian is written as\n",
    "$$\n",
    "H_{\\rm Pauli} = -\\frac{2\\mu + U}{4} (IZ + ZI) + \\frac{t+\\Delta}{2} XX + \\frac{t-\\Delta}{2} YY + \\frac{U}{4} ZZ \\\\\n",
    "\\equiv m(IZ + IZ) + x XX + y YY + z ZZ\n",
    "$$\n",
    "negelecting the identity term. "
   ]
  },
  {
   "cell_type": "code",
   "execution_count": 12,
   "id": "54600973",
   "metadata": {},
   "outputs": [],
   "source": [
    "from qiskit_research.spect_eigensolver.experiment import build_sweep\n",
    "\n",
    "num_shots = 8192\n",
    "model_params = {\n",
    "    't_set': 5.0,\n",
    "    'dt_set': 0.7,\n",
    "    'c_set': 0.3,\n",
    "    'x_set': 1.5,\n",
    "    'y_set': 0.1,\n",
    "    'z_set': 0.4,\n",
    "}\n",
    "m_range = np.linspace(-3, 3, 16)\n",
    "w_range = np.linspace(-3.5, 3.5, 51)\n",
    "\n",
    "final_circs_t = build_sweep(trot_circ_t, w_range, m_range, model_params, backend=backend)"
   ]
  },
  {
   "cell_type": "markdown",
   "id": "acfae8bd",
   "metadata": {},
   "source": [
    "# Run on Quantum Hardware"
   ]
  },
  {
   "cell_type": "code",
   "execution_count": 13,
   "id": "a8c4eef4",
   "metadata": {},
   "outputs": [
    {
     "name": "stdout",
     "output_type": "stream",
     "text": [
      "Spect Eigen Job Set ID: 33e88a8d73f64201b9836a77c6f766de-1664830434617472\n"
     ]
    }
   ],
   "source": [
    "# Use Job Manager to break the circuits into multiple jobs.\n",
    "job_manager = IBMQJobManager()\n",
    "spect_eigen_job_set = job_manager.run(final_circs_t, backend=backend,\n",
    "                    name=\"Spect Eigen MZM Phase {}\".format(model_params),\n",
    "                    run_config={\"shots\": num_shots})\n",
    "\n",
    "job_set_id = spect_eigen_job_set.job_set_id()\n",
    "print(\"Spect Eigen Job Set ID: {}\".format(job_set_id))"
   ]
  },
  {
   "cell_type": "code",
   "execution_count": 14,
   "id": "09475a0c",
   "metadata": {
    "scrolled": true
   },
   "outputs": [],
   "source": [
    "from qiskit.tools.monitor import job_monitor\n",
    "\n",
    "if run_experiment:\n",
    "    # run the job on a real backend\n",
    "    if dynamical_decoupling:\n",
    "        job = backend.run(res_circ_scaled_trans1 + res_circ_ddx2 + res_circ_ddxy4, \n",
    "                          job_name=\"SE_Eigensolver\", meas_level=2, shots=8192)\n",
    "    else:\n",
    "        job = backend.run(res_circ_scaled_trans1, job_name=\"SE_Eigensolver\", meas_level=2, shots=8192) \n",
    "\n",
    "    \n",
    "    print(job.job_id())\n",
    "    job_monitor(job)"
   ]
  },
  {
   "cell_type": "markdown",
   "id": "57590bf6",
   "metadata": {},
   "source": [
    "## Or Retrieve from Previous Run"
   ]
  },
  {
   "cell_type": "code",
   "execution_count": 15,
   "id": "b3797cd4",
   "metadata": {},
   "outputs": [],
   "source": [
    "if not run_experiment:\n",
    "    # ntb default internal provider job ids\n",
    "    job_ids_def = [\n",
    "                  # y=0.4, m=1.0, c=0.4, z=0.2\n",
    "                   '6134d974f8e62dc8e4a7bfed', # run 1 - t_sweep\n",
    "                   '614141d26feb7e1aa36f5656', # run 2 - t_sweep\n",
    "                   '6143af378eca75f46d42c806', # run 3 - t_sweep\n",
    "                   '615097d12e79b36819d35e6e', # run 4 - c_sweep \n",
    "                   \n",
    "                  # z=0 runs (off)\n",
    "                   '615b59fcc97866325c08ff55', # run 5 - m_sweep, y=-1.5\n",
    "                   '615b684a20df542ec45e3b52', # run 6 - m_sweep, y=-1.3\n",
    "                   '615bc81720df5465eb5e400b', # run 7 - m_sweep, y=-1.1\n",
    "                   '615bd258837ee41079c253b0', # run 8 - m_sweep, y=-0.9\n",
    "                   '615bddb29f1b4a43d4ff7cd7', # run 9 - m_sweep, y=-0.7\n",
    "                   '615be885da98d568592b90b5', # run 10 - m_sweep, y=-0.5\n",
    "                   '615c8914837ee44fb3c259da', # run 11 - m_sweep, y=-0.3\n",
    "                   '6160cd020fa7c30e31a26fce', # run 12 - m_sweep, y=-0.1\n",
    "                   '6160da990fa7c32ddaa27035', # run 13 - m_sweep, y=0.3\n",
    "                   '61617706d35e28a5db93d21f', # run 14 - m_sweep, y=0.3\n",
    "                   '61618cd7d35e2800b793d284', # run 15 - m_sweep, y=0.5\n",
    "                   '616236bfc978666c46093276', # run 16 - m_sweep, y=0.7\n",
    "                   '6162ae9cfc7bdf39a143e79e', # run 17 - m_sweep, y=0.9\n",
    "                   '6164ba8d9f1b4a48b0ffbb66', # run 18 - m_sweep, y=1.1\n",
    "                   '6164c762ed29dd5a5ec69776', # run 19 - m_sweep, y=1.3\n",
    "                   '616544f2ed29dd485fc69b9f', # run 20 - m_sweep, y=1.5\n",
    "    \n",
    "                  # z=0.4 runs (on)\n",
    "                   '616ac829e4cd1779b14b3ddb', # run 21 - m_sweep, y=-1.5\n",
    "                   '616c03c682ec5a4008ddfb88', # run 22 - m_sweep, y=-1.3\n",
    "                   '616ca052540eb274f628c895', # run 23 - m_sweep, y=-1.1\n",
    "                   '616d48d3f21fcaeb037754fe', # run 24 - m_sweep, y=-0.9\n",
    "                   '61701ccc9c88ce3e40b0e94b', # run 25 - m_sweep, y=-0.7\n",
    "                   '617028da43727303b3987d8a', # run 26 - m_sweep, y=-0.5\n",
    "                   '6170427a7c5dd5042afd2c3a', # run 27 - m_sweep, y=-0.3, re-started notebook (updated inst_sched_map)\n",
    "                   '61704eee78399c3a6550430f', # run 28 - m_sweep, y=-0.1\n",
    "                   '61705b16437273463f987ead', # run 29 - m_sweep, y=0.1\n",
    "                   '617069ac437273c21e987efc', # run 30 - m_sweep, y=0.3\n",
    "                   '617078907c5dd5d51ffd2d72', # run 31 - m_sweep, y=0.5\n",
    "                   '617083b8ac4af566ce5a704b', # run 32 - m_sweep, y=0.7\n",
    "                   '61708ee9dd30e9613de61df5', # run 33 - m_sweep, y=0.9\n",
    "                   '6170cf1ccea63368481457e1', # run 34 - m_sweep, y=1.1\n",
    "                   '617147fe9c88ce1f75b0ef87', # run 35 - m_sweep, y=1.3\n",
    "                   '617157191cc68170e998717c', # run 36 - m_sweep, y=1.5\n",
    "    \n",
    "                  # z=0.4, dt_set=0.7\n",
    "                   '6178374b2e5f445f3fcb2658', # run 37 - m_sweep, y=-1.5\n",
    "                   '617844fb6ba9a855d003dd4a', # run 38 - m_sweep, y=-1.3\n",
    "                   '61785e03ece07e62c10ebed1', # run 39 - m_sweep, y=-1.1\n",
    "                   '61786f8b1286f275b142184a', # run 40 - m_sweep, y=-0.9\n",
    "                   '61787dd656f4d7fe0d46ae76', # run 41 - m_sweep, y=-0.7\n",
    "                   '6178a2cf0080172e4b4f2918', # run 42 - m_sweep, y=-0.5\n",
    "                   '6178aeb5ece07e97770ec24d', # run 43 - m_sweep, y=-0.3\n",
    "                   '6178bbfc11395bfd151c4d86', # run 44 - m_sweep, y=-0.1\n",
    "                   '6178c9b156f4d7233046b19c', # run 45 - m_sweep, y=0.1\n",
    "                   '6178d75eece07e3d5a0ec4b2', # run 46 - m_sweep, y=0.3\n",
    "                   '61793cd476b55a37f0afb0c8', # run 47 - m_sweep, y=0.5\n",
    "                   '6179493ab851bf00930d20fc', # run 48 - m_sweep, y=0.7\n",
    "                   '617957222e5f4451cfcb33de', # run 49 - m_sweep, y=0.9\n",
    "                   '61797e0119bc9c65ec82fc1f', # run 50 - m_sweep, y=1.1\n",
    "                   '6179926abc9884d8485f8cf4', # run 51 - m_sweep, y=1.3\n",
    "                   '6179b31c19bc9c08b482fd8d'] # run 52 - m_sweep, y=1.5\n",
    "    \n",
    "    # z=0.2, dt_set=0.7 - MISSION CRITICAL PROVIDER, qubits 3-1-2\n",
    "    job_ids_crit = ['618c1c4518014be18ad2adbe', # run 53 - m_sweep, y=-1.5\n",
    "                    '618c2c8efa93429c778ac41f', # run 54 - m_sweep, y=-1.3\n",
    "                    '618c4115fa934243108ac4d1', # run 55 - m_sweep, y=-1.1\n",
    "                    '618c7e3afa93425ec58ac643', # run 56 - m_sweep, y=-0.9\n",
    "                    '618c848d3b109c0483477918', # run 57 - m_sweep, y=-0.7\n",
    "                    '618c86a72ab8f59ab6622e61', # run 58 - m_sweep, y=-0.5\n",
    "                    '618c893218014b4609d2b0d4', # run 59 - m_sweep, y=-0.3\n",
    "                    '618c8b8b18014b5b2fd2b0e6', # run 60 - m_sweep, y=-0.1\n",
    "                    '618c8dee9880afc3cdc0ffe5', # run 61 - m_sweep, y=0.1\n",
    "                    '618c900748856a0f34edafbb', # run 62 - m_sweep, y=0.3\n",
    "                    '618c923d3b109c1c1547794f', # run 63 - m_sweep, y=0.5\n",
    "                    '618c95a8fa934200318ac6ba', # run 64 - m_sweep, y=0.7\n",
    "                    '618c97e99880af1fe9c10012', # run 65 - m_sweep, y=0.9\n",
    "                    '618c9a06e6cb0990eb6353cd', # run 66 - m_sweep, y=1.1\n",
    "                    '618c9ce58b10e72e3968d4f6', # run 67 - m_sweep, y=1.3\n",
    "                    '618c9f5318014b7af8d2b134', # run 68 - m_sweep, y=1.5\n",
    "    \n",
    "                  # z=0.0, dt_set=0.7 - MISSION CRITICAL PROVIDER, qubits 3-1-2\n",
    "                    '618d1e98fc46da9adb8e449f', # run 69 - m_sweep, y=-1.5\n",
    "                    '618d21a60b2c123cdd6fe67a', # run 70 - m_sweep, y=-1.3\n",
    "                    '618d23b9944d5dfd6baa7c0e', # run 71 - m_sweep, y=-1.1\n",
    "                    '618d3abb2b0346846de1044e', # run 72 - m_sweep, y=-0.9\n",
    "                    '618d3ebdfc46da52818e45da', # run 73 - m_sweep, y=-0.7\n",
    "                    '618d41eb1fe02d691ac3c150', # run 74 - m_sweep, y=-0.5\n",
    "                    '618d4420fc46da7e578e460d', # run 75 - m_sweep, y=-0.3\n",
    "                    '618d476f9c22c361d6e5edfb', # run 76 - m_sweep, y=-0.1\n",
    "                    '618d49f06bc1dd0e0093df68', # run 77 - m_sweep, y=0.1\n",
    "                    '618d5584cc669a3eb2d2db45', # run 78 - m_sweep, y=0.3\n",
    "                    '618d704c56c9100e1e703eca', # run 79 - m_sweep, y=0.5\n",
    "                    '618d74390b2c125d2a6feacc', # run 80 - m_sweep, y=0.7\n",
    "                    '618d76829c22c34cb9e5f125', # run 81 - m_sweep, y=0.9\n",
    "                    '618d78ea944d5d4b95aa809e', # run 82 - m_sweep, y=1.1\n",
    "                    '618d7b482b03466eb3e107e2', # run 83 - m_sweep, y=1.3\n",
    "                    '618d7f5ccc669a7f15d2de36', # run 84 - m_sweep, y=1.5\n",
    "    \n",
    "                  # z=-0.4, dt_set=0.7 - MISSION CRITICAL PROVIDER, qubits 3-1-2\n",
    "                    '6193fa73e2f5b6eaf668bb81', # run 85 - m_sweep, y=-1.5\n",
    "                    '619400b1329f0fcecb48ff9b', # run 86 - m_sweep, y=-1.3\n",
    "                    '619403696254ddbb65864dc3', # run 87 - m_sweep, y=-1.1\n",
    "                    '61940b3bbd3c6c8facf93d9e', # run 88 - m_sweep, y=-0.9\n",
    "                    '61940e982be06d53e3031457', # run 89 - m_sweep, y=-0.7\n",
    "                    '619416e39d052aedb08b60e2', # run 90 - m_sweep, y=-0.5\n",
    "                    '61942bed2be06d747b031563', # run 91 - m_sweep, y=-0.3\n",
    "                    '61942e89a90bff28ea2618fc', # run 92 - m_sweep, y=-0.1\n",
    "                    '6194360a9e1846348bb66019', # run 93 - m_sweep, y=0.1\n",
    "                    '619438f6bd3c6cabc9f93f4f', # run 94 - m_sweep, y=0.3\n",
    "                    '61943bd6972490e25893ad03', # run 95 - m_sweep, y=0.5\n",
    "                    '61943ffd9d052a5ed18b6259', # run 96 - m_sweep, y=0.7\n",
    "                    '61944665972490be1293ada1', # run 97 - m_sweep, y=0.9\n",
    "                    '61944bc39e1846f279b6613c', # run 98 - m_sweep, y=1.1\n",
    "                    '61944f60329f0ffd774902c5', # run 99 - m_sweep, y=1.3\n",
    "                    '619464f49d052ab2ff8b6410', # run 100 - m_sweep, y=1.5\n",
    "    \n",
    "                  # z=0.0, dt_set=0.7 - MISSION CRITICAL PROVIDER, qubits 4-5-6\n",
    "                    '6195e4699e1846f410b66ceb', # run 101 - c_sweep, y=0, m=0\n",
    "                    '61967f1e972490061893bc00', # run 102 - c_sweep, y=0.1, m=0.1\n",
    "    \n",
    "                  # z=0.0, dt_set=0.7 - MISSION CRITICAL PROVIDER, qubits 3-1-2\n",
    "                    '61993d388b720eaf9c115002', # run 103 - c_sweep, y=0.1, m=0.1\n",
    "    \n",
    "                  # m=0.0, c=0.3, dt_set=0.7 - MISSION CRITICAL PROVIDER, qubits 3-1-2\n",
    "                    '61995d1e68476d66ef8a7d2a', # run 104 - y_sweep, z=-0.5\n",
    "                    '619962005297baad34ecbbec', # run 105 - y_sweep, z=-0.4\n",
    "                    '61996585cd37f3a2a3f268c9', # run 106 - y_sweep, z=-0.3\n",
    "                    '61996851580e75146a14e9ad', # run 107 - y_sweep, z=-0.2\n",
    "                    '61996b0a580e756af214e9be', # run 108 - y_sweep, z=-0.1\n",
    "                    '619972508b720ead5e115124', # run 109 - y_sweep, z=0.0\n",
    "                    '619975becd37f37687f2692b', # run 110 - y_sweep, z=0.1\n",
    "                    '61997dbbcd37f39f02f2694c', # run 111 - y_sweep, z=0.2\n",
    "                    '6199821a5297ba3f51ecbc9f', # run 112 - y_sweep, z=0.3\n",
    "                    '619985648982d9e42f33858a', # run 113 - y_sweep, z=0.4\n",
    "                    '61998a1d68476d08438a7e2a', # run 114 - y_sweep, z=0.5\n",
    "    \n",
    "                  # y=0.1, m=0.1, c=0.3 - MISSION CRITICAL PROVIDER, qubits 3-1-2\n",
    "                    '619e85ed580e756b62150f3c', # run 115 - t_sweep, z=0.0\n",
    "    \n",
    "                  # m=0.0, c=0.3, dt_set=0.1, t=5.0 - MISSION CRITICAL PROVIDER, qubits 3-1-2\n",
    "                  # z=0.0, noDD + X2 + XY4\n",
    "                    '61a3f4805ddc02a92fe74b35', #run 116 - y_sweep -1.5 to -1.3\n",
    "                    '61a3f8efe76c00841afa3e18', # run 117 - y_sweep -1.1 to -0.7\n",
    "                    '61a3fd32fd3a881c19590d7e', # run 118 - y_sweep -0.5 to -0.1\n",
    "                    '61a405cecbd50667abff0919', # run 119 - y_sweep 0.1 to 0.5\n",
    "                    '61a4098683753d300027c668', # run 120 - y_sweep 0.7 to 1.1\n",
    "                    '61a40c0fe76c00304afa3e68', # run 121 - y_sweep 1.3 to 1.5\n",
    "                    '61a553a46a8ec04f82197eba', # run 122 - y_sweep redo -1.5 to -1.3\n",
    "    \n",
    "                  # z=0.0, c=0.3, dt_set=0.1, t=5.0 - MISSION CRITICAL PROVIDER, qubits 3-1-2\n",
    "                    '61a67b4a44185e542416c37b', # run 123 - m_sweep, y=0.1, m=-0.1, 0, 0.1\n",
    "                    '61a9313ceeb4d473cdb075f2', # run 124 - m_sweep, y=0.1, m=-0.1, 0, 0.1 noDD passes\n",
    "                    \n",
    "                  # runs 125-127 failed due to backend job dispatcher issue, which continues for a few runs below\n",
    "                    '', # run 125\n",
    "                    '', # run 126\n",
    "                    '', # run 127\n",
    "                    \n",
    "                  # m=0.0, c=0.3, dt_set=0.7, t=5.0 - MISSION CRITICAL PROVIDER, qubits 3-1-2 (redo)\n",
    "                  # z=0.0, noDD + X2 + XY4\n",
    "                    '61b38d11a43b0c79052af305', # run 128 - y_sweep -1.5 to -0.7\n",
    "                    '61b9125b58158fc29bb6588f', # run 129 y_sweep -0.5 to 0.3 - CANCELED AFTER RUNNING 6 DAYS\n",
    "                    '61b9287315ab795582b85d7e', # run 130 - y_sweep 0.5 to 1.3 - CANCELED AFTER RUNNING 6 DAYS\n",
    "                    '61b64cdf33cebdd08a2b14d5', # run 131 - y_sweep 1.5 \n",
    "    \n",
    "                  # m=0.0, c=0.3, dt_set=0.7, t=5.0 - MISSION CRITICAL PROVIDER, qubits 3-1-2 (redo again)\n",
    "                  # z=0.0, noDD + X2 + XY4\n",
    "                    '61c36c8c06d47f3210c40853', # run 132 - y_sweep -1.5 to -0.9\n",
    "                    '61c36db681db3e6e0084ef5b', # run 133 - y_sweep -0.7 to -0.1\n",
    "                    '61c36e9be2b9d14fdc91222f', # run 134 - y_sweep 0.1 to 0.7\n",
    "                    '61c370b006d47fa445c40867', # run 135 - y_sweep 0.9 to 1.5\n",
    "                    \n",
    "                  # m=0.0, c=0.3, dt_set=0.7, t=5.0 - MISSION CRITICAL PROVIDER, qubits 3-1-2 (redo)\n",
    "                  # z=0.0, noDD + X2 + XY4  \n",
    "                  # redo again with just ancilla probe measurement, qubits 2-1-0\n",
    "                    '61c49b445763548ad5f4fece', # run 136 - y_sweep -1.5 to -0.9\n",
    "                    '61c49f5481db3ef02884f4b7', # run 137 - y_sweep -0.7 to -0.1\n",
    "                    '61c4a0eb06d47f2b8ac40dac', # run 138 - y_sweep 0.1 to 0.7\n",
    "                    '61c4a3b9576354c6d5f4feed', # run 139 - y_sweep 0.9 to 1.5\n",
    "    \n",
    "                  #z=0.4, dt_set=0.7, no DD, (NOT) single meas - MISSION CRITICAL PROVIDER, qubits 2-1-0\n",
    "                  #THESE JOBS DO NOT SEEM TO BE BUILT CORRECTLY (153 circuits each?)\n",
    "                    '61c64cb23b6df90e4273d848', # run 140 - m_sweep, y=-1.5\n",
    "                    '61c64ded06d47fc247c4150d', # run 141 - m_sweep, y=-1.3\n",
    "                    '61c64e9f255d4eff69d65400', # run 142 - m_sweep, y=-1.1\n",
    "                    '61c64f3ba81fcf70ddd1cdf4', # run 143 - m_sweep, y=-0.9\n",
    "                    '61c65110255d4e6242d6540c', # run 144 - m_sweep, y=-0.7\n",
    "                    '61c651ad20e2c478beeaed2c', # run 145 - m_sweep, y=-0.5\n",
    "                    '61c65269a81fcfba19d1cdf8', # run 146 - m_sweep, y=-0.3\n",
    "                    '61c6530a06d47f71a6c4151f', # run 147 - m_sweep, y=-0.1\n",
    "                    '61c653a3525f9ebfcd396399', # run 148 - m_sweep, y=0.1\n",
    "                    '61c654c406d47f3f24c41521', # run 149 - m_sweep, y=0.3\n",
    "                    '61c655a2e2b9d14243912f2e', # run 150 - m_sweep, y=0.5\n",
    "                    '61c65773576354ecaff5064f', # run 151 - m_sweep, y=0.7\n",
    "                    '61c6582a3b6df944a773d866', # run 152 - m_sweep, y=0.9\n",
    "                    '61c658cf3b6df90a2273d868', # run 153 - m_sweep, y=1.1\n",
    "                    '61c6598c3b6df9468c73d86e', # run 154 - m_sweep, y=1.3\n",
    "                    '61c65a33a81fcf62cad1ce15', # run 155 - m_sweep, y=1.5\n",
    "    \n",
    "                  #z=0.4, dt_set=0.7, no DD, single meas - MISSION CRITICAL PROVIDER, qubits 2-1-0\n",
    "                    '61c88da5525f9e6c03396cfd', # run 156 - m_sweep, y=-1.5\n",
    "                    '61c88fa23b6df9efaf73e1c5', # run 157 - m_sweep, y=-1.3 - CANCELED\n",
    "                    '61c8919406d47f0c22c41e62', # run 158 - m_sweep, y=-1.1 - CANCELED\n",
    "                    '61c89388fa27f6330437cd8e', # run 159 - m_sweep, y=-0.9 - CANCELED\n",
    "                    '61c895725763546712f50fa7', # run 160 - m_sweep, y=-0.7 - CANCELED\n",
    "                    '61c8976d525f9e0b22396d24', # run 161 - m_sweep, y=-0.5 - CANCELED\n",
    "                    '61c89ac5255d4ea33ad65d8e', # run 162 - m_sweep, y=-0.3\n",
    "                    '61c8c63781db3e3f2a8507a5', # run 163 - m_sweep, y=-0.1 - CANCELED\n",
    "                    '61c8c8cfa81fcfbefcd1d842', # run 164 - m_sweep, y=0.1 - CANCELED\n",
    "                    '61c8cae206d47fe1f1c41f6f', # run 165 - m_sweep, y=0.3 - CANCELED\n",
    "                    '61c908653b6df96f9373e37f', # run 166 - m_sweep, y=0.5 - CANCELED\n",
    "                    '61c90b2ea81fcf35bed1d91a', # run 167 - m_sweep, y=0.7 - CANCELED\n",
    "                    '61c90d4a06d47f111ac42049', # run 168 - m_sweep, y=0.9 - CANCELED\n",
    "                    '61c90f6606d47f3563c4204e', # run 169 - m_sweep, y=1.1 - CANCELED\n",
    "                    '61c9116581db3ef39b8508ce', # run 170 - m_sweep, y=1.3 - CANCELED\n",
    "                    '61c9135cfa27f68c3b37cf52', # run 171 - m_sweep, y=1.5 - CANCELED\n",
    "    \n",
    "                  #z=0.4, dt_set=0.7, no DD, single meas - MISSION CRITICAL PROVIDER, qubits 2-1-0\n",
    "                    '61ca03c13b6df9a02173e6d0', # run 172 - m_sweep, y=-1.3 retry - CANCELED\n",
    "                    '61cb5c3ae2b9d1816c914240', # run 173 - m_sweep, y=-1.5 - CANCELED\n",
    "                  # runs 174-188 never executed due to dispatcher issues\n",
    "                    '', # run 174\n",
    "                    '', # run 175\n",
    "                    '', # run 176\n",
    "                    '', # run 177\n",
    "                    '', # run 178\n",
    "                    '', # run 179\n",
    "                    '', # run 180\n",
    "                    '', # run 181\n",
    "                    '', # run 182\n",
    "                    '', # run 183\n",
    "                    '', # run 184\n",
    "                    '', # run 185\n",
    "                    '', # run 186\n",
    "                    '', # run 187\n",
    "                    '', # run 188\n",
    "\n",
    "                  # m=0.0, c=0.3, dt_set=0.7, t=5.0 - MISSION CRITICAL PROVIDER, qubits 2-1-0\n",
    "                  # z=0.4, noDD + X2 + XY4, fixed rzx timing issue (which may have effected DD)\n",
    "                    '61ce04e4fa27f692da37e282', # run 189 - y_sweep -1.5 to -0.9\n",
    "                    '61d48634a81fcf85c2d1fe42', # run 190 - y_sweep -0.7 to -0.1\n",
    "                    '61d488f4a81fcf9048d1fe48', # run 191 - y_sweep 0.1 to 0.7\n",
    "                    '61d48e3bf24655412c32188f', # run 192- y_sweep 0.9 to 1.5\n",
    "\n",
    "                  # z=0.4, c=0.3, dt_set=0.7, t=5.0 - MISSION CRITICAL PROVIDER, qubits 6-5-4\n",
    "                    '61dd84f58cd5fc403e46aa02', # run 193 - m_sweep, y=-1.5\n",
    "                    '61dd877c8df39446a733150c', # run 194 - m_sweep, y=-1.3\n",
    "                    '61dd89899307b9d55c6bc734', # run 195 - m_sweep, y=-1.1\n",
    "                    '61dd8bfbfde78bdc64dbb70f', # run 196 - m_sweep, y=-0.9\n",
    "                    '61dd8eb687d4f81a1f23fbd6', # run 197 - m_sweep, y=-0.7\n",
    "                    '61dd91c08df394771c331547', # run 198 - m_sweep, y=-0.5\n",
    "                    '61ddc35c8cd5fc172746aafa', # run 199 - m_sweep, y=-0.3\n",
    "                    '61ddc5e00a744aba1199d15e', # run 200 - m_sweep, y=-0.1\n",
    "                    '61ddc8ec9710ff9796ddf232', # run 201 - m_sweep, y=0.1\n",
    "                    '61ddcb199307b947326bc854', # run 202 - m_sweep, y=0.3\n",
    "                    '61ddcde49307b90c806bc85f', # run 203 - m_sweep, y=0.5\n",
    "                    '61ddd08d6d650863301a1d7a', # run 204 - m_sweep, y=0.7\n",
    "                    '61ddd2e46d6508358d1a1d8a', # run 205 - m_sweep, y=0.9\n",
    "                    '61ddd50d87d4f8c4b923fcf3', # run 206 - m_sweep, y=1.1\n",
    "                    '61dde83a6d65083ff41a1e1a', # run 207 - m_sweep, y=1.3\n",
    "                    '61ddeb370a744a647299d24a', # run 208 - m_sweep, y=1.5\n",
    "    \n",
    "                  # z=0.2, c=0.3, dt_set=0.7, t=5.0 - MISSION CRITICAL PROVIDER, qubits 6-5-4\n",
    "                    '61df2a3a9710ff287dddf6ff', # run 209 - m_sweep, y=-1.5\n",
    "                    '61df2dd4d1eb07e0264932f5', # run 210 - m_sweep, y=-1.3\n",
    "                    '61df316dfde78b7054dbbcc6', # run 211 - m_sweep, y=-1.1\n",
    "                    '61df3a7787d4f8eba8240171', # run 212 - m_sweep, y=-0.9\n",
    "                    '61df3d00d1eb0724ae49330f', # run 213 - m_sweep, y=-0.7\n",
    "                    '61df51809710ff7051ddf73f', # run 214 - m_sweep, y=-0.5\n",
    "                    '61df5566fde78b1e13dbbd16', # run 215 - m_sweep, y=-0.3\n",
    "                    '61df584487d4f8165c2401a3', # run 216 - m_sweep, y=-0.1\n",
    "                    '61df5b3b0a744a90ea99d659', # run 217 - m_sweep, y=0.1\n",
    "                    '61df5dbf9307b9f11f6bcd4d', # run 218 - m_sweep, y=0.3\n",
    "                    '61df61dd8df3946094331b14', # run 219 - m_sweep, y=0.5\n",
    "                    '61df65b00a744a5f9399d682', # run 220 - m_sweep, y=0.7\n",
    "                    '61df685cd1eb07f6b0493371', # run 221 - m_sweep, y=0.9\n",
    "                    '61df6add8df39466d9331b27', # run 222 - m_sweep, y=1.1\n",
    "                    '61df6e7d87d4f82c802401d5', # run 223 - m_sweep, y=1.3\n",
    "                    '61df71e89307b908636bcd79', # run 224 - m_sweep, y=1.5\n",
    "    \n",
    "                  # z=0.0, c=0.3, dt_set=0.7, t=5.0 - MISSION CRITICAL PROVIDER, qubits 6-5-4\n",
    "                    '61df7523fde78b4a71dbbd59', # run 225 - m_sweep, y=-1.5\n",
    "                    '61df78fb8df39432de331b3c', # run 226 - m_sweep, y=-1.3\n",
    "                    '61df7c108df394390d331b43', # run 227 - m_sweep, y=-1.1\n",
    "                    '61df7f640a744ac79b99d6c2', # run 228 - m_sweep, y=-0.9\n",
    "                    '61df824333a1ee7a63f16ff1', # run 229 - m_sweep, y=-0.7\n",
    "                    '61df85130a744a793d99d6c7', # run 230 - m_sweep, y=-0.5\n",
    "                    '61df87889307b93ddc6bcd99', # run 231 - m_sweep, y=-0.3\n",
    "                    '61df8a4cd1eb075e474933b1', # run 232 - m_sweep, y=-0.1\n",
    "                    '61df8d396113fa81305a7eea', # run 233 - m_sweep, y=0.1\n",
    "                    '61df8fc733a1ee952ff16ffd', # run 234 - m_sweep, y=0.3\n",
    "                    '61df92736113fa73f35a7eee', # run 235 - m_sweep, y=0.5\n",
    "                    '61df9524d1eb0765544933bc', # run 236 - m_sweep, y=0.7\n",
    "                    '61df97d987d4f810f8240208', # run 237 - m_sweep, y=0.9\n",
    "                    '61df9ab733a1eeb07ff1700c', # run 238 - m_sweep, y=1.1\n",
    "                    '61df9d9b87d4f8820524020d', # run 239 - m_sweep, y=1.3\n",
    "                    '61dfa01533a1eed8f7f17025'] # run 240 - m_sweep, y=1.5"
   ]
  },
  {
   "cell_type": "code",
   "execution_count": 16,
   "id": "14415914",
   "metadata": {},
   "outputs": [
    {
     "ename": "IBMQBackendApiError",
     "evalue": "\"Failed to get job 61dfa01533a1eed8f7f17025: '400 Client Error: Bad Request for url: https://api-qcon.quantum-computing.ibm.com/api/Network/ibm-q-internal/Groups/deployed/Projects/default/Jobs/61dfa01533a1eed8f7f17025/v/1. Job not valid., Error code: 3211.'\"",
     "output_type": "error",
     "traceback": [
      "\u001b[0;31m---------------------------------------------------------------------------\u001b[0m",
      "\u001b[0;31mHTTPError\u001b[0m                                 Traceback (most recent call last)",
      "File \u001b[0;32m~/opt/anaconda3/envs/qiskit-research/lib/python3.9/site-packages/qiskit/providers/ibmq/api/session.py:278\u001b[0m, in \u001b[0;36mRetrySession.request\u001b[0;34m(self, method, url, bare, **kwargs)\u001b[0m\n\u001b[1;32m    277\u001b[0m     response \u001b[39m=\u001b[39m \u001b[39msuper\u001b[39m()\u001b[39m.\u001b[39mrequest(method, final_url, headers\u001b[39m=\u001b[39mheaders, \u001b[39m*\u001b[39m\u001b[39m*\u001b[39mkwargs)\n\u001b[0;32m--> 278\u001b[0m     response\u001b[39m.\u001b[39;49mraise_for_status()\n\u001b[1;32m    279\u001b[0m \u001b[39mexcept\u001b[39;00m RequestException \u001b[39mas\u001b[39;00m ex:\n\u001b[1;32m    280\u001b[0m     \u001b[39m# Wrap the requests exceptions into a IBM Q custom one, for\u001b[39;00m\n\u001b[1;32m    281\u001b[0m     \u001b[39m# compatibility.\u001b[39;00m\n",
      "File \u001b[0;32m~/opt/anaconda3/envs/qiskit-research/lib/python3.9/site-packages/requests/models.py:1021\u001b[0m, in \u001b[0;36mResponse.raise_for_status\u001b[0;34m(self)\u001b[0m\n\u001b[1;32m   1020\u001b[0m \u001b[39mif\u001b[39;00m http_error_msg:\n\u001b[0;32m-> 1021\u001b[0m     \u001b[39mraise\u001b[39;00m HTTPError(http_error_msg, response\u001b[39m=\u001b[39m\u001b[39mself\u001b[39m)\n",
      "\u001b[0;31mHTTPError\u001b[0m: 400 Client Error: Bad Request for url: https://api-qcon.quantum-computing.ibm.com/api/Network/ibm-q-internal/Groups/deployed/Projects/default/Jobs/61dfa01533a1eed8f7f17025/v/1",
      "\nThe above exception was the direct cause of the following exception:\n",
      "\u001b[0;31mRequestsApiError\u001b[0m                          Traceback (most recent call last)",
      "File \u001b[0;32m~/opt/anaconda3/envs/qiskit-research/lib/python3.9/site-packages/qiskit/providers/ibmq/ibmqbackendservice.py:650\u001b[0m, in \u001b[0;36mIBMQBackendService.retrieve_job\u001b[0;34m(self, job_id)\u001b[0m\n\u001b[1;32m    649\u001b[0m \u001b[39mtry\u001b[39;00m:\n\u001b[0;32m--> 650\u001b[0m     job_info \u001b[39m=\u001b[39m \u001b[39mself\u001b[39;49m\u001b[39m.\u001b[39;49m_provider\u001b[39m.\u001b[39;49m_api_client\u001b[39m.\u001b[39;49mjob_get(job_id)\n\u001b[1;32m    651\u001b[0m \u001b[39mexcept\u001b[39;00m ApiError \u001b[39mas\u001b[39;00m ex:\n",
      "File \u001b[0;32m~/opt/anaconda3/envs/qiskit-research/lib/python3.9/site-packages/qiskit/providers/ibmq/api/clients/account.py:343\u001b[0m, in \u001b[0;36mAccountClient.job_get\u001b[0;34m(self, job_id)\u001b[0m\n\u001b[1;32m    335\u001b[0m \u001b[39m\"\"\"Return information about the job.\u001b[39;00m\n\u001b[1;32m    336\u001b[0m \n\u001b[1;32m    337\u001b[0m \u001b[39mArgs:\u001b[39;00m\n\u001b[0;32m   (...)\u001b[0m\n\u001b[1;32m    341\u001b[0m \u001b[39m    Job information.\u001b[39;00m\n\u001b[1;32m    342\u001b[0m \u001b[39m\"\"\"\u001b[39;00m\n\u001b[0;32m--> 343\u001b[0m \u001b[39mreturn\u001b[39;00m \u001b[39mself\u001b[39;49m\u001b[39m.\u001b[39;49maccount_api\u001b[39m.\u001b[39;49mjob(job_id)\u001b[39m.\u001b[39;49mget()\n",
      "File \u001b[0;32m~/opt/anaconda3/envs/qiskit-research/lib/python3.9/site-packages/qiskit/providers/ibmq/api/rest/job.py:67\u001b[0m, in \u001b[0;36mJob.get\u001b[0;34m(self)\u001b[0m\n\u001b[1;32m     65\u001b[0m url \u001b[39m=\u001b[39m \u001b[39mself\u001b[39m\u001b[39m.\u001b[39mget_url(\u001b[39m'\u001b[39m\u001b[39mself\u001b[39m\u001b[39m'\u001b[39m)\n\u001b[0;32m---> 67\u001b[0m response \u001b[39m=\u001b[39m \u001b[39mself\u001b[39;49m\u001b[39m.\u001b[39;49msession\u001b[39m.\u001b[39;49mget(url)\u001b[39m.\u001b[39mjson()\n\u001b[1;32m     69\u001b[0m \u001b[39mif\u001b[39;00m \u001b[39m'\u001b[39m\u001b[39mcalibration\u001b[39m\u001b[39m'\u001b[39m \u001b[39min\u001b[39;00m response:\n",
      "File \u001b[0;32m~/opt/anaconda3/envs/qiskit-research/lib/python3.9/site-packages/requests/sessions.py:600\u001b[0m, in \u001b[0;36mSession.get\u001b[0;34m(self, url, **kwargs)\u001b[0m\n\u001b[1;32m    599\u001b[0m kwargs\u001b[39m.\u001b[39msetdefault(\u001b[39m\"\u001b[39m\u001b[39mallow_redirects\u001b[39m\u001b[39m\"\u001b[39m, \u001b[39mTrue\u001b[39;00m)\n\u001b[0;32m--> 600\u001b[0m \u001b[39mreturn\u001b[39;00m \u001b[39mself\u001b[39;49m\u001b[39m.\u001b[39;49mrequest(\u001b[39m\"\u001b[39;49m\u001b[39mGET\u001b[39;49m\u001b[39m\"\u001b[39;49m, url, \u001b[39m*\u001b[39;49m\u001b[39m*\u001b[39;49mkwargs)\n",
      "File \u001b[0;32m~/opt/anaconda3/envs/qiskit-research/lib/python3.9/site-packages/qiskit/providers/ibmq/api/session.py:300\u001b[0m, in \u001b[0;36mRetrySession.request\u001b[0;34m(self, method, url, bare, **kwargs)\u001b[0m\n\u001b[1;32m    298\u001b[0m         \u001b[39mself\u001b[39m\u001b[39m.\u001b[39m_modify_chained_exception_messages(ex)\n\u001b[0;32m--> 300\u001b[0m     \u001b[39mraise\u001b[39;00m RequestsApiError(message, status_code) \u001b[39mfrom\u001b[39;00m \u001b[39mex\u001b[39;00m\n\u001b[1;32m    302\u001b[0m \u001b[39mreturn\u001b[39;00m response\n",
      "\u001b[0;31mRequestsApiError\u001b[0m: '400 Client Error: Bad Request for url: https://api-qcon.quantum-computing.ibm.com/api/Network/ibm-q-internal/Groups/deployed/Projects/default/Jobs/61dfa01533a1eed8f7f17025/v/1. Job not valid., Error code: 3211.'",
      "\nThe above exception was the direct cause of the following exception:\n",
      "\u001b[0;31mIBMQBackendApiError\u001b[0m                       Traceback (most recent call last)",
      "\u001b[1;32m/Users/nick/Documents/codebase/qiskit-research/docs/spect_eigensolver/se_2site_opflow_param_sweep.ipynb Cell 32\u001b[0m in \u001b[0;36m<cell line: 2>\u001b[0;34m()\u001b[0m\n\u001b[1;32m      <a href='vscode-notebook-cell:/Users/nick/Documents/codebase/qiskit-research/docs/spect_eigensolver/se_2site_opflow_param_sweep.ipynb#X42sZmlsZQ%3D%3D?line=2'>3</a>\u001b[0m     job \u001b[39m=\u001b[39m backend\u001b[39m.\u001b[39mretrieve_job(job_ids_def[run_num\u001b[39m-\u001b[39m\u001b[39m1\u001b[39m])\n\u001b[1;32m      <a href='vscode-notebook-cell:/Users/nick/Documents/codebase/qiskit-research/docs/spect_eigensolver/se_2site_opflow_param_sweep.ipynb#X42sZmlsZQ%3D%3D?line=3'>4</a>\u001b[0m \u001b[39melse\u001b[39;00m:\n\u001b[0;32m----> <a href='vscode-notebook-cell:/Users/nick/Documents/codebase/qiskit-research/docs/spect_eigensolver/se_2site_opflow_param_sweep.ipynb#X42sZmlsZQ%3D%3D?line=4'>5</a>\u001b[0m     job \u001b[39m=\u001b[39m backend\u001b[39m.\u001b[39;49mretrieve_job(job_ids_crit[run_num\u001b[39m-\u001b[39;49m\u001b[39m53\u001b[39;49m])\n",
      "File \u001b[0;32m~/opt/anaconda3/envs/qiskit-research/lib/python3.9/site-packages/qiskit/providers/ibmq/ibmqbackend.py:687\u001b[0m, in \u001b[0;36mIBMQBackend.retrieve_job\u001b[0;34m(self, job_id)\u001b[0m\n\u001b[1;32m    675\u001b[0m \u001b[39mdef\u001b[39;00m \u001b[39mretrieve_job\u001b[39m(\u001b[39mself\u001b[39m, job_id: \u001b[39mstr\u001b[39m) \u001b[39m-\u001b[39m\u001b[39m>\u001b[39m IBMQJob:\n\u001b[1;32m    676\u001b[0m     \u001b[39m\"\"\"Return a single job submitted to this backend.\u001b[39;00m\n\u001b[1;32m    677\u001b[0m \n\u001b[1;32m    678\u001b[0m \u001b[39m    Args:\u001b[39;00m\n\u001b[0;32m   (...)\u001b[0m\n\u001b[1;32m    685\u001b[0m \u001b[39m        IBMQBackendError: If job retrieval failed.\u001b[39;00m\n\u001b[1;32m    686\u001b[0m \u001b[39m    \"\"\"\u001b[39;00m\n\u001b[0;32m--> 687\u001b[0m     job \u001b[39m=\u001b[39m \u001b[39mself\u001b[39;49m\u001b[39m.\u001b[39;49m_provider\u001b[39m.\u001b[39;49mbackend\u001b[39m.\u001b[39;49mretrieve_job(job_id)\n\u001b[1;32m    688\u001b[0m     job_backend \u001b[39m=\u001b[39m job\u001b[39m.\u001b[39mbackend()\n\u001b[1;32m    690\u001b[0m     \u001b[39mif\u001b[39;00m \u001b[39mself\u001b[39m\u001b[39m.\u001b[39mname() \u001b[39m!=\u001b[39m job_backend\u001b[39m.\u001b[39mname():\n",
      "File \u001b[0;32m~/opt/anaconda3/envs/qiskit-research/lib/python3.9/site-packages/qiskit/providers/ibmq/ibmqbackendservice.py:652\u001b[0m, in \u001b[0;36mIBMQBackendService.retrieve_job\u001b[0;34m(self, job_id)\u001b[0m\n\u001b[1;32m    650\u001b[0m     job_info \u001b[39m=\u001b[39m \u001b[39mself\u001b[39m\u001b[39m.\u001b[39m_provider\u001b[39m.\u001b[39m_api_client\u001b[39m.\u001b[39mjob_get(job_id)\n\u001b[1;32m    651\u001b[0m \u001b[39mexcept\u001b[39;00m ApiError \u001b[39mas\u001b[39;00m ex:\n\u001b[0;32m--> 652\u001b[0m     \u001b[39mraise\u001b[39;00m IBMQBackendApiError(\u001b[39m'\u001b[39m\u001b[39mFailed to get job \u001b[39m\u001b[39m{}\u001b[39;00m\u001b[39m: \u001b[39m\u001b[39m{}\u001b[39;00m\u001b[39m'\u001b[39m\n\u001b[1;32m    653\u001b[0m                               \u001b[39m.\u001b[39mformat(job_id, \u001b[39mstr\u001b[39m(ex))) \u001b[39mfrom\u001b[39;00m \u001b[39mex\u001b[39;00m\n\u001b[1;32m    655\u001b[0m \u001b[39m# Recreate the backend used for this job.\u001b[39;00m\n\u001b[1;32m    656\u001b[0m backend_name \u001b[39m=\u001b[39m job_info\u001b[39m.\u001b[39mget(\u001b[39m'\u001b[39m\u001b[39m_backend_info\u001b[39m\u001b[39m'\u001b[39m, {})\u001b[39m.\u001b[39mget(\u001b[39m'\u001b[39m\u001b[39mname\u001b[39m\u001b[39m'\u001b[39m, \u001b[39m'\u001b[39m\u001b[39munknown\u001b[39m\u001b[39m'\u001b[39m)\n",
      "\u001b[0;31mIBMQBackendApiError\u001b[0m: \"Failed to get job 61dfa01533a1eed8f7f17025: '400 Client Error: Bad Request for url: https://api-qcon.quantum-computing.ibm.com/api/Network/ibm-q-internal/Groups/deployed/Projects/default/Jobs/61dfa01533a1eed8f7f17025/v/1. Job not valid., Error code: 3211.'\""
     ]
    }
   ],
   "source": [
    "run_num = 240\n",
    "if run_num < 53:\n",
    "    job = backend.retrieve_job(job_ids_def[run_num-1])\n",
    "else:\n",
    "    job = backend.retrieve_job(job_ids_crit[run_num-53])"
   ]
  },
  {
   "cell_type": "code",
   "execution_count": null,
   "id": "dc7c4705",
   "metadata": {},
   "outputs": [],
   "source": [
    "Result = job.result().get_counts()"
   ]
  },
  {
   "cell_type": "markdown",
   "id": "167ce7d3",
   "metadata": {},
   "source": [
    "# Analyze Results"
   ]
  },
  {
   "cell_type": "code",
   "execution_count": null,
   "id": "6767be0a",
   "metadata": {},
   "outputs": [],
   "source": [
    "if exp_str == 't_sweep':\n",
    "    t_analyze = 10.0\n",
    "    dt_analyze = 1.0\n",
    "\n",
    "    tidx = int(np.where(np.round(np.asarray(t_range), 2) == t_analyze)[0])\n",
    "    dtidx = int(np.where(np.round(np.asarray(dt_range), 2) == dt_analyze)[0])\n",
    "\n",
    "    w0 = w_range[0]\n",
    "    idx0 = dtidx*len(w_range) + tidx*len(w_range)*(1+len(t_range)) # starting index\n",
    "    pd0 = ['t='+str(round(t_analyze, 2))+', dt='\n",
    "           +str(round(dt_analyze, 2))+', w='+str(round(w0, 2))] \n",
    "    pdf = ['t='+str(round(t_analyze, 2))+', dt='\n",
    "           +str(round(dt_analyze, 2))+', w='+str(round(-w0, 2))]\n",
    "    \n",
    "elif exp_str == 'c_sweep':\n",
    "    c_analyze = 0.03\n",
    "    cidx = int(np.where(np.round(np.asarray(c_range), 2) == c_analyze)[0])\n",
    "    idx0 = cidx*len(w_range) # starting index\n",
    "    pd0 = ['c='+str(round(c_analyze, 2))+', w='+str(round(w0, 2))]\n",
    "    pdf = ['c='+str(round(c_analyze, 2))+', w='+str(round(-w0, 2))]\n",
    "    \n",
    "elif exp_str == 'm_sweep':\n",
    "    m_analyze = -1.5\n",
    "    param_bind[mu] = -2*(m_analyze + z_set)\n",
    "    midx = int(np.where(np.round(np.asarray(m_range), 2) == m_analyze)[0])\n",
    "    idx0 = midx*len(w_range) # starting index\n",
    "    w0 = w_range[0]\n",
    "    dw = round(w_range[1] - w_range[0], 2)\n",
    "    pd0 = ['y='+str(round(y_set, 2))+', m='+str(round(m_analyze, 2))+', w='+str(round(w0, 2))]\n",
    "    pdf = ['y='+str(round(y_set, 2))+', m='+str(round(m_analyze, 2))+', w='+str(round(-w0, 2))]\n",
    "    \n",
    "elif exp_str == 'y_sweep':\n",
    "    y_analyze = -1.5\n",
    "    param_bind[TT] = x_set + y_analyze\n",
    "    param_bind[DD] = x_set - y_analyze\n",
    "    yidx = int(np.where(np.round(np.asarray(y_range), 2) == y_analyze)[0])\n",
    "    idx0 = yidx*len(w_range) # starting index\n",
    "    w0 = w_range[0]\n",
    "    dw = round(w_range[1] - w_range[0], 2)\n",
    "    pd0 = ['y='+str(round(y_set, 2))+', z='+str(round(z_set, 2))+', w='+str(round(w0, 2))]\n",
    "    pdf = ['y='+str(round(y_set, 2))+', z='+str(round(z_set, 2))+', w='+str(round(-w0, 2))]"
   ]
  },
  {
   "cell_type": "markdown",
   "id": "48a2aa2e",
   "metadata": {},
   "source": [
    "## Simulation for Analysis"
   ]
  },
  {
   "cell_type": "code",
   "execution_count": null,
   "id": "dea38d55",
   "metadata": {},
   "outputs": [],
   "source": [
    "wi0 = param_decoder.index(pd0)\n",
    "wif = param_decoder.index(pdf)\n",
    "\n",
    "# energies = np.linspace(w0, -w0, int(-2*w0/dw)+1) # w0 is negative\n",
    "energies = w_range"
   ]
  },
  {
   "cell_type": "code",
   "execution_count": null,
   "id": "fc8c2cda",
   "metadata": {},
   "outputs": [],
   "source": [
    "gnd_state = Zero^3 # |000>\n",
    "obsv = I^I^Z\n",
    "evo_and_obsv = (U_ham @ gnd_state).adjoint() @ obsv @ U_ham @ gnd_state"
   ]
  },
  {
   "cell_type": "markdown",
   "id": "d36bf5e2",
   "metadata": {},
   "source": [
    "### Diagonalization of Pauli Hamiltonian"
   ]
  },
  {
   "cell_type": "code",
   "execution_count": null,
   "id": "08291cbf",
   "metadata": {},
   "outputs": [
    {
     "name": "stdout",
     "output_type": "stream",
     "text": [
      "[0j, (-6.000000000000002+0j), (-6.000000000000002+0j)] [(6.000000000000002+0j), 0j, (-5.639463903503843e-33+0j)] [(6.000000000000002+0j), (5.639463903503843e-33+0j), 0j] [(1.7763568394002505e-15+0j), (-6+0j), (-6+0j)]\n"
     ]
    }
   ],
   "source": [
    "evalues, evects = lng.eig(ham_pauli.bind_parameters(param_bind).to_matrix())\n",
    "\n",
    "# The expected transitions\n",
    "D0 = [evalues[i]-evalues[0] for i in range(0,3)]\n",
    "D1 = [evalues[i]-evalues[1] for i in range(0,3)]\n",
    "D2 = [evalues[i]-evalues[2] for i in range(0,3)]\n",
    "D3 = [evalues[i]-evalues[3] for i in range(0,3)]\n",
    "print(D0, D1, D2, D3)"
   ]
  },
  {
   "cell_type": "markdown",
   "id": "adb95ee1",
   "metadata": {},
   "source": [
    "### Qiskit Statevector Evolution (of Resonance Ham)"
   ]
  },
  {
   "cell_type": "code",
   "execution_count": null,
   "id": "35a7935b",
   "metadata": {},
   "outputs": [
    {
     "ename": "ParameterTypeError",
     "evalue": "ParameterExpression with unbound parameters ({Parameter(μ), Parameter(U), Parameter(t)}) cannot be cast to a float.",
     "output_type": "error",
     "traceback": [
      "\u001b[0;31m---------------------------------------------------------------------------\u001b[0m",
      "\u001b[0;31mRuntimeError\u001b[0m                              Traceback (most recent call last)",
      "\u001b[0;32m~/anaconda3/envs/qiskit-dev/lib/python3.9/site-packages/qiskit/circuit/parameterexpression.py\u001b[0m in \u001b[0;36m__float__\u001b[0;34m(self)\u001b[0m\n\u001b[1;32m    443\u001b[0m         \u001b[0;32mtry\u001b[0m\u001b[0;34m:\u001b[0m\u001b[0;34m\u001b[0m\u001b[0;34m\u001b[0m\u001b[0m\n\u001b[0;32m--> 444\u001b[0;31m             \u001b[0;32mreturn\u001b[0m \u001b[0mfloat\u001b[0m\u001b[0;34m(\u001b[0m\u001b[0mself\u001b[0m\u001b[0;34m.\u001b[0m\u001b[0m_symbol_expr\u001b[0m\u001b[0;34m)\u001b[0m\u001b[0;34m\u001b[0m\u001b[0;34m\u001b[0m\u001b[0m\n\u001b[0m\u001b[1;32m    445\u001b[0m         \u001b[0;31m# TypeError is for sympy, RuntimeError for symengine\u001b[0m\u001b[0;34m\u001b[0m\u001b[0;34m\u001b[0m\u001b[0;34m\u001b[0m\u001b[0m\n",
      "\u001b[0;32msymengine_wrapper.pyx\u001b[0m in \u001b[0;36msymengine.lib.symengine_wrapper.Basic.__float__\u001b[0;34m()\u001b[0m\n",
      "\u001b[0;32msymengine_wrapper.pyx\u001b[0m in \u001b[0;36msymengine.lib.symengine_wrapper.Basic.n\u001b[0;34m()\u001b[0m\n",
      "\u001b[0;32msymengine_wrapper.pyx\u001b[0m in \u001b[0;36msymengine.lib.symengine_wrapper.evalf\u001b[0;34m()\u001b[0m\n",
      "\u001b[0;31mRuntimeError\u001b[0m: Symbol cannot be evaluated.",
      "\nThe above exception was the direct cause of the following exception:\n",
      "\u001b[0;31mParameterTypeError\u001b[0m                        Traceback (most recent call last)",
      "\u001b[0;32m<ipython-input-52-83212b56e1a5>\u001b[0m in \u001b[0;36m<module>\u001b[0;34m\u001b[0m\n\u001b[1;32m      1\u001b[0m \u001b[0mres_circ_scaled_trans\u001b[0m\u001b[0;34m[\u001b[0m\u001b[0mwi0\u001b[0m\u001b[0;34m]\u001b[0m\u001b[0;34m.\u001b[0m\u001b[0mremove_final_measurements\u001b[0m\u001b[0;34m(\u001b[0m\u001b[0;34m)\u001b[0m\u001b[0;34m\u001b[0m\u001b[0;34m\u001b[0m\u001b[0m\n\u001b[0;32m----> 2\u001b[0;31m \u001b[0mpsi\u001b[0m \u001b[0;34m=\u001b[0m \u001b[0mqi\u001b[0m\u001b[0;34m.\u001b[0m\u001b[0mStatevector\u001b[0m\u001b[0;34m.\u001b[0m\u001b[0mfrom_instruction\u001b[0m\u001b[0;34m(\u001b[0m\u001b[0mres_circ_scaled_trans\u001b[0m\u001b[0;34m[\u001b[0m\u001b[0mwi0\u001b[0m\u001b[0;34m]\u001b[0m\u001b[0;34m)\u001b[0m\u001b[0;34m.\u001b[0m\u001b[0mdata\u001b[0m\u001b[0;34m\u001b[0m\u001b[0;34m\u001b[0m\u001b[0m\n\u001b[0m\u001b[1;32m      3\u001b[0m \u001b[0;34m\u001b[0m\u001b[0m\n\u001b[1;32m      4\u001b[0m \u001b[0mq0\u001b[0m \u001b[0;34m=\u001b[0m \u001b[0minitial_layout\u001b[0m\u001b[0;34m[\u001b[0m\u001b[0;36m0\u001b[0m\u001b[0;34m]\u001b[0m\u001b[0;34m\u001b[0m\u001b[0;34m\u001b[0m\u001b[0m\n\u001b[1;32m      5\u001b[0m \u001b[0mNq\u001b[0m \u001b[0;34m=\u001b[0m \u001b[0mint\u001b[0m\u001b[0;34m(\u001b[0m\u001b[0mnp\u001b[0m\u001b[0;34m.\u001b[0m\u001b[0mlog2\u001b[0m\u001b[0;34m(\u001b[0m\u001b[0mlen\u001b[0m\u001b[0;34m(\u001b[0m\u001b[0mpsi\u001b[0m\u001b[0;34m)\u001b[0m\u001b[0;34m)\u001b[0m\u001b[0;34m)\u001b[0m\u001b[0;34m\u001b[0m\u001b[0;34m\u001b[0m\u001b[0m\n",
      "\u001b[0;32m~/anaconda3/envs/qiskit-dev/lib/python3.9/site-packages/qiskit/quantum_info/states/statevector.py\u001b[0m in \u001b[0;36mfrom_instruction\u001b[0;34m(cls, instruction)\u001b[0m\n\u001b[1;32m    727\u001b[0m         \u001b[0minit\u001b[0m\u001b[0;34m[\u001b[0m\u001b[0;36m0\u001b[0m\u001b[0;34m]\u001b[0m \u001b[0;34m=\u001b[0m \u001b[0;36m1.0\u001b[0m\u001b[0;34m\u001b[0m\u001b[0;34m\u001b[0m\u001b[0m\n\u001b[1;32m    728\u001b[0m         \u001b[0mvec\u001b[0m \u001b[0;34m=\u001b[0m \u001b[0mStatevector\u001b[0m\u001b[0;34m(\u001b[0m\u001b[0minit\u001b[0m\u001b[0;34m,\u001b[0m \u001b[0mdims\u001b[0m\u001b[0;34m=\u001b[0m\u001b[0minstruction\u001b[0m\u001b[0;34m.\u001b[0m\u001b[0mnum_qubits\u001b[0m \u001b[0;34m*\u001b[0m \u001b[0;34m(\u001b[0m\u001b[0;36m2\u001b[0m\u001b[0;34m,\u001b[0m\u001b[0;34m)\u001b[0m\u001b[0;34m)\u001b[0m\u001b[0;34m\u001b[0m\u001b[0;34m\u001b[0m\u001b[0m\n\u001b[0;32m--> 729\u001b[0;31m         \u001b[0;32mreturn\u001b[0m \u001b[0mStatevector\u001b[0m\u001b[0;34m.\u001b[0m\u001b[0m_evolve_instruction\u001b[0m\u001b[0;34m(\u001b[0m\u001b[0mvec\u001b[0m\u001b[0;34m,\u001b[0m \u001b[0minstruction\u001b[0m\u001b[0;34m)\u001b[0m\u001b[0;34m\u001b[0m\u001b[0;34m\u001b[0m\u001b[0m\n\u001b[0m\u001b[1;32m    730\u001b[0m \u001b[0;34m\u001b[0m\u001b[0m\n\u001b[1;32m    731\u001b[0m     \u001b[0;32mdef\u001b[0m \u001b[0mto_dict\u001b[0m\u001b[0;34m(\u001b[0m\u001b[0mself\u001b[0m\u001b[0;34m,\u001b[0m \u001b[0mdecimals\u001b[0m\u001b[0;34m=\u001b[0m\u001b[0;32mNone\u001b[0m\u001b[0;34m)\u001b[0m\u001b[0;34m:\u001b[0m\u001b[0;34m\u001b[0m\u001b[0;34m\u001b[0m\u001b[0m\n",
      "\u001b[0;32m~/anaconda3/envs/qiskit-dev/lib/python3.9/site-packages/qiskit/quantum_info/states/statevector.py\u001b[0m in \u001b[0;36m_evolve_instruction\u001b[0;34m(statevec, obj, qargs)\u001b[0m\n\u001b[1;32m    855\u001b[0m \u001b[0;34m\u001b[0m\u001b[0m\n\u001b[1;32m    856\u001b[0m         \u001b[0;32mif\u001b[0m \u001b[0mobj\u001b[0m\u001b[0;34m.\u001b[0m\u001b[0mdefinition\u001b[0m\u001b[0;34m.\u001b[0m\u001b[0mglobal_phase\u001b[0m\u001b[0;34m:\u001b[0m\u001b[0;34m\u001b[0m\u001b[0;34m\u001b[0m\u001b[0m\n\u001b[0;32m--> 857\u001b[0;31m             \u001b[0mstatevec\u001b[0m\u001b[0;34m.\u001b[0m\u001b[0m_data\u001b[0m \u001b[0;34m*=\u001b[0m \u001b[0mnp\u001b[0m\u001b[0;34m.\u001b[0m\u001b[0mexp\u001b[0m\u001b[0;34m(\u001b[0m\u001b[0;36m1j\u001b[0m \u001b[0;34m*\u001b[0m \u001b[0mfloat\u001b[0m\u001b[0;34m(\u001b[0m\u001b[0mobj\u001b[0m\u001b[0;34m.\u001b[0m\u001b[0mdefinition\u001b[0m\u001b[0;34m.\u001b[0m\u001b[0mglobal_phase\u001b[0m\u001b[0;34m)\u001b[0m\u001b[0;34m)\u001b[0m\u001b[0;34m\u001b[0m\u001b[0;34m\u001b[0m\u001b[0m\n\u001b[0m\u001b[1;32m    858\u001b[0m         \u001b[0mqubits\u001b[0m \u001b[0;34m=\u001b[0m \u001b[0;34m{\u001b[0m\u001b[0mqubit\u001b[0m\u001b[0;34m:\u001b[0m \u001b[0mi\u001b[0m \u001b[0;32mfor\u001b[0m \u001b[0mi\u001b[0m\u001b[0;34m,\u001b[0m \u001b[0mqubit\u001b[0m \u001b[0;32min\u001b[0m \u001b[0menumerate\u001b[0m\u001b[0;34m(\u001b[0m\u001b[0mobj\u001b[0m\u001b[0;34m.\u001b[0m\u001b[0mdefinition\u001b[0m\u001b[0;34m.\u001b[0m\u001b[0mqubits\u001b[0m\u001b[0;34m)\u001b[0m\u001b[0;34m}\u001b[0m\u001b[0;34m\u001b[0m\u001b[0;34m\u001b[0m\u001b[0m\n\u001b[1;32m    859\u001b[0m         \u001b[0;32mfor\u001b[0m \u001b[0minstr\u001b[0m\u001b[0;34m,\u001b[0m \u001b[0mqregs\u001b[0m\u001b[0;34m,\u001b[0m \u001b[0mcregs\u001b[0m \u001b[0;32min\u001b[0m \u001b[0mobj\u001b[0m\u001b[0;34m.\u001b[0m\u001b[0mdefinition\u001b[0m\u001b[0;34m:\u001b[0m\u001b[0;34m\u001b[0m\u001b[0;34m\u001b[0m\u001b[0m\n",
      "\u001b[0;32m~/anaconda3/envs/qiskit-dev/lib/python3.9/site-packages/qiskit/circuit/parameterexpression.py\u001b[0m in \u001b[0;36m__float__\u001b[0;34m(self)\u001b[0m\n\u001b[1;32m    445\u001b[0m         \u001b[0;31m# TypeError is for sympy, RuntimeError for symengine\u001b[0m\u001b[0;34m\u001b[0m\u001b[0;34m\u001b[0m\u001b[0;34m\u001b[0m\u001b[0m\n\u001b[1;32m    446\u001b[0m         \u001b[0;32mexcept\u001b[0m \u001b[0;34m(\u001b[0m\u001b[0mTypeError\u001b[0m\u001b[0;34m,\u001b[0m \u001b[0mRuntimeError\u001b[0m\u001b[0;34m)\u001b[0m \u001b[0;32mas\u001b[0m \u001b[0mexc\u001b[0m\u001b[0;34m:\u001b[0m\u001b[0;34m\u001b[0m\u001b[0;34m\u001b[0m\u001b[0m\n\u001b[0;32m--> 447\u001b[0;31m             raise ParameterTypeError(\n\u001b[0m\u001b[1;32m    448\u001b[0m                 \u001b[0;34m\"ParameterExpression with unbound parameters ({}) \"\u001b[0m\u001b[0;34m\u001b[0m\u001b[0;34m\u001b[0m\u001b[0m\n\u001b[1;32m    449\u001b[0m                 \u001b[0;34m\"cannot be cast to a float.\"\u001b[0m\u001b[0;34m.\u001b[0m\u001b[0mformat\u001b[0m\u001b[0;34m(\u001b[0m\u001b[0mself\u001b[0m\u001b[0;34m.\u001b[0m\u001b[0mparameters\u001b[0m\u001b[0;34m)\u001b[0m\u001b[0;34m\u001b[0m\u001b[0;34m\u001b[0m\u001b[0m\n",
      "\u001b[0;31mParameterTypeError\u001b[0m: ParameterExpression with unbound parameters ({Parameter(μ), Parameter(U), Parameter(t)}) cannot be cast to a float."
     ]
    }
   ],
   "source": [
    "res_circ_scaled_trans[wi0].remove_final_measurements()\n",
    "psi = qi.Statevector.from_instruction(res_circ_scaled_trans[wi0]).data\n",
    "\n",
    "q0 = initial_layout[0]\n",
    "Nq = int(np.log2(len(psi)))\n",
    "Z_label = ''\n",
    "for q in range(Nq):\n",
    "    if q == Nq - 1 - q0:\n",
    "        Z_label = Z_label + 'Z'\n",
    "    else:\n",
    "        Z_label = Z_label + 'I'\n",
    "Z0 = qi.Operator.from_label(Z_label).data"
   ]
  },
  {
   "cell_type": "code",
   "execution_count": null,
   "id": "f384da3b",
   "metadata": {},
   "outputs": [],
   "source": [
    "param_bind[tt] = dt_set\n",
    "try:\n",
    "    param_bind[cc] = c_analyze\n",
    "except:\n",
    "    param_bind[cc] = c_set\n",
    "\n",
    "prob0_final = []\n",
    "for wi in range(wi0,wif+1):    \n",
    "    res_circ_scaled_trans[wi].remove_final_measurements()\n",
    "    psi = qi.Statevector.from_instruction(res_circ_scaled_trans[wi]).data\n",
    "    P0 = np.dot(np.conjugate(psi),np.dot(Z0,psi))\n",
    "    prob0_final.append(P0)"
   ]
  },
  {
   "cell_type": "code",
   "execution_count": null,
   "id": "9e4d7161",
   "metadata": {},
   "outputs": [],
   "source": []
  },
  {
   "cell_type": "code",
   "execution_count": null,
   "id": "2ff6192e",
   "metadata": {},
   "outputs": [],
   "source": []
  },
  {
   "cell_type": "code",
   "execution_count": null,
   "id": "c685b9c4",
   "metadata": {},
   "outputs": [],
   "source": []
  },
  {
   "cell_type": "code",
   "execution_count": null,
   "id": "7ea9213b",
   "metadata": {},
   "outputs": [],
   "source": [
    "# res_circ_ddx2[wi0].remove_final_measurements()\n",
    "# psi = qi.Statevector.from_instruction(res_circ_ddx2[wi0]).data\n",
    "\n",
    "# q0 = initial_layout[0]\n",
    "# Nq = int(np.log2(len(psi)))\n",
    "# Z_label = ''\n",
    "# for q in range(Nq):\n",
    "#     if q == Nq - 1 - q0:\n",
    "#         Z_label = Z_label + 'Z'\n",
    "#     else:\n",
    "#         Z_label = Z_label + 'I'\n",
    "# Z0 = qi.Operator.from_label(Z_label).data"
   ]
  },
  {
   "cell_type": "code",
   "execution_count": null,
   "id": "148dbb16",
   "metadata": {},
   "outputs": [],
   "source": [
    "# param_bind[tt] = dt_set\n",
    "# try:\n",
    "#     param_bind[cc] = c_analyze\n",
    "# except:\n",
    "#     param_bind[cc] = c_set\n",
    "\n",
    "# prob0_final = []\n",
    "# for wi in range(wi0,wif+1):    \n",
    "#     res_circ_ddx2[wi].remove_final_measurements()\n",
    "#     psi = qi.Statevector.from_instruction(res_circ_ddx2[wi]).data\n",
    "#     P0 = np.dot(np.conjugate(psi),np.dot(Z0,psi))\n",
    "#     prob0_final.append(P0)"
   ]
  },
  {
   "cell_type": "code",
   "execution_count": null,
   "id": "e613db0b",
   "metadata": {},
   "outputs": [],
   "source": [
    "# fig, ax = plt.subplots(1, 1, figsize=(8,5))\n",
    "# ax.plot(energies, np.real(prob0_final), label='Circuit Evol',linewidth=6)"
   ]
  },
  {
   "cell_type": "code",
   "execution_count": null,
   "id": "859f5000",
   "metadata": {},
   "outputs": [],
   "source": []
  },
  {
   "cell_type": "code",
   "execution_count": null,
   "id": "54b4db03",
   "metadata": {},
   "outputs": [],
   "source": []
  },
  {
   "cell_type": "markdown",
   "id": "ae745ab4",
   "metadata": {},
   "source": [
    "### numpy Matrix Evolution"
   ]
  },
  {
   "cell_type": "code",
   "execution_count": null,
   "id": "57e1516e",
   "metadata": {},
   "outputs": [],
   "source": [
    "prob0_matrix = []\n",
    "Z0 = obsv.to_matrix()\n",
    "for w_set in energies:\n",
    "    HM = res_ham.bind_parameters({**param_bind, ww: w_set}).to_matrix()\n",
    "    psiM = gnd_state.to_matrix()\n",
    "    psiM_f = np.dot(lng.expm(-1j*HM*t_set), psiM)\n",
    "\n",
    "    prob0_matrix.append(np.dot(np.conjugate(psiM_f), np.dot(Z0,psiM_f)))"
   ]
  },
  {
   "cell_type": "markdown",
   "id": "0666537c",
   "metadata": {},
   "source": [
    "### Opflow Exact Evolution"
   ]
  },
  {
   "cell_type": "code",
   "execution_count": null,
   "id": "26d85032",
   "metadata": {},
   "outputs": [],
   "source": [
    "param_bind[tt] = int(t_set/dt_set)*dt_set\n",
    "diag_meas_op = PauliExpectation().convert(evo_and_obsv.bind_parameters(param_bind))\n",
    "\n",
    "prob0_exact = []\n",
    "for w_set in energies:\n",
    "    simple_ham_exps = diag_meas_op.bind_parameters({ww: w_set})\n",
    "    prob0_exact.append(simple_ham_exps.eval())"
   ]
  },
  {
   "cell_type": "markdown",
   "id": "89d2ecb7",
   "metadata": {},
   "source": [
    "### Opflow Trotter Evolution"
   ]
  },
  {
   "cell_type": "code",
   "execution_count": null,
   "id": "6fc8d36f",
   "metadata": {},
   "outputs": [],
   "source": [
    "if exp_str == 't_sweep':\n",
    "    trot_steps = int(t_analyze/dt_analyze)\n",
    "elif exp_str == 'c_sweep':\n",
    "    trot_steps = int(t_set/dt_set)\n",
    "elif exp_str == 'm_sweep':\n",
    "    trot_steps = int(t_set/dt_set)\n",
    "elif exp_str == 'y_sweep':\n",
    "    trot_steps = int(t_set/dt_set)\n",
    "    \n",
    "sim_trot_op = PauliTrotterEvolution(trotter_mode=Suzuki(order=2, reps=trot_steps)).convert(evo_and_obsv)"
   ]
  },
  {
   "cell_type": "code",
   "execution_count": null,
   "id": "d22cf896",
   "metadata": {},
   "outputs": [],
   "source": [
    "diag_meas_op = PauliExpectation().convert(sim_trot_op.bind_parameters(param_bind))\n",
    "simple_ham_exps = diag_meas_op.bind_parameters({ww: list(energies)})\n",
    "prob0_amp_trot = simple_ham_exps.eval()\n",
    "\n",
    "prob0_trot = []\n",
    "for eidx,_ in enumerate(energies):\n",
    "    #prob0_trot.append(prob0_amp_trot[eidx]*prob0_amp_trot[eidx].conjugate())\n",
    "    prob0_trot.append(prob0_amp_trot[eidx]) # NOT squared"
   ]
  },
  {
   "cell_type": "markdown",
   "id": "cc5870ca",
   "metadata": {},
   "source": [
    "## Plot Simulations"
   ]
  },
  {
   "cell_type": "code",
   "execution_count": null,
   "id": "4376ed3b",
   "metadata": {},
   "outputs": [],
   "source": [
    "fig, ax = plt.subplots(1, 1, figsize=(8,5))\n",
    "ax.plot(energies, np.real(prob0_matrix), label='Matrix Evol',linewidth=8,color='b')\n",
    "ax.plot(energies, np.real(prob0_exact), label='Exact Evol')\n",
    "ax.plot(energies, np.real(prob0_final), label='Circuit Evol',linewidth=6)\n",
    "ax.plot(energies, np.real(prob0_trot), label=str(trot_steps)+' Trotter Steps')\n",
    "for ev in D0:\n",
    "    ax.plot(np.real([ev, ev]), [-0.2, 1], ls='--', color='pink')\n",
    "for ev in D1:\n",
    "    ax.plot(np.real([ev, ev]), [-0.2, 1], ls='--', color='pink')\n",
    "for ev in D2:\n",
    "    ax.plot(np.real([ev, ev]), [-0.2, 1], ls='--', color='pink')\n",
    "for ev in D3:\n",
    "    ax.plot(np.real([ev, ev]), [-0.2, 1], ls='--', color='pink')\n",
    "    \n",
    "ax.set_xlabel('Energy', fontsize=18)\n",
    "ax.set_ylabel('<Z>  Expectation', fontsize=18)\n",
    "ax.legend(loc=3, fontsize=14)\n",
    "ax.plot()"
   ]
  },
  {
   "cell_type": "markdown",
   "id": "6f684ee8",
   "metadata": {},
   "source": [
    "## Retrieve Results from Actual Job"
   ]
  },
  {
   "cell_type": "code",
   "execution_count": null,
   "id": "34348d12",
   "metadata": {},
   "outputs": [],
   "source": [
    "#Result"
   ]
  },
  {
   "cell_type": "code",
   "execution_count": null,
   "id": "b9648015",
   "metadata": {},
   "outputs": [],
   "source": [
    "if not dynamical_decoupling:\n",
    "    P0_w = []\n",
    "    for wi in range(len(w_range)):\n",
    "        keys = list(Result[wi + idx0].keys())\n",
    "        norm = sum([Result[wi + idx0][key] for key in keys]) \n",
    "        P0 = 0\n",
    "        for key in keys:\n",
    "            #if key[initial_layout[0]] == '0':\n",
    "            if key == '0000000':\n",
    "                P0 += Result[wi+idx0][key]/norm\n",
    "        P0_w.append(P0)\n",
    "else:\n",
    "    num_dd_seqs = 3\n",
    "    seq_length = len(res_circ_ddxy4)\n",
    "    P0_w = np.zeros((num_dd_seqs, len(w_range)))\n",
    "    for seq in range(num_dd_seqs):\n",
    "        for wi in range(len(w_range)):\n",
    "            keys = list(Result[wi + idx0 + seq*seq_length].keys())\n",
    "            norm = sum([Result[wi + idx0 + seq*seq_length][key] for key in keys]) \n",
    "            P0 = 0\n",
    "            for key in keys:\n",
    "                #if key[initial_layout[0]] == '0':\n",
    "                if key == '0000000':\n",
    "                    P0 += Result[wi+idx0+seq*seq_length][key]/norm\n",
    "            P0_w[seq, wi] = P0"
   ]
  },
  {
   "cell_type": "code",
   "execution_count": null,
   "id": "b7f338a9",
   "metadata": {},
   "outputs": [],
   "source": [
    "fig, ax = plt.subplots(1, 1, figsize=(8,5))\n",
    "if not dynamical_decoupling:\n",
    "    ax.plot(energies, P0_w, label='Matrix Evol',linewidth=8,color='b')\n",
    "else:\n",
    "    for seq in range(num_dd_seqs):\n",
    "        ax.plot(energies, P0_w[seq], label='Matrix Evol',linewidth=8)"
   ]
  },
  {
   "cell_type": "markdown",
   "id": "d16090af",
   "metadata": {},
   "source": [
    "## Plot Results and Sims\n",
    "\n",
    "This nominally should work without having the experimental data as well (i.e., for checks)."
   ]
  },
  {
   "cell_type": "code",
   "execution_count": null,
   "id": "d31a537e",
   "metadata": {},
   "outputs": [],
   "source": [
    "fig, ax = plt.subplots(1, 1, figsize=(8,5))\n",
    "ax.plot(energies, np.real(prob0_matrix), label='Matrix Evol',linewidth=8,color='b')\n",
    "ax.plot(energies, np.real(prob0_exact), label='Exact Evol')\n",
    "ax.plot(energies, np.real(prob0_final), label='Circuit Evol')\n",
    "ax.plot(energies, np.real(prob0_trot), label=str(trot_steps)+' Trotter Steps')\n",
    "for ev in D0:\n",
    "    ax.plot(np.real([ev, ev]), [-0.2, 1], ls='--', color='pink')\n",
    "for ev in D1:\n",
    "    ax.plot(np.real([ev, ev]), [-0.2, 1], ls='--', color='pink')\n",
    "for ev in D2:\n",
    "    ax.plot(np.real([ev, ev]), [-0.2, 1], ls='--', color='pink')\n",
    "for ev in D3:\n",
    "    ax.plot(np.real([ev, ev]), [-0.2, 1], ls='--', color='pink')\n",
    "\n",
    "if exp_str == 't_sweep':\n",
    "    try:\n",
    "        ax.plot(w_range, P0_w, label='$t=$'+str(t_analyze)+', $dt=$'+str(dt_analyze))\n",
    "    except:\n",
    "        pass\n",
    "    ax.set_title('Resonant Hamiltonian Evol for $c=$'+str(c_set), fontsize=20)\n",
    "elif exp_str == 'c_sweep':\n",
    "    try:\n",
    "        ax.plot(w_range, P0_w, label='$c=$'+str(c_analyze))\n",
    "    except:\n",
    "        pass\n",
    "    ax.set_title('Resonant Hamiltonian Evol for $t$='\n",
    "                 +str(t_set)+', $dt=$'+str(dt_set), fontsize=20)\n",
    "elif exp_str == 'm_sweep':\n",
    "    try:\n",
    "        ax.plot(w_range, P0_w, label='$m$='+str(m_analyze)+', $y=$'+str(y_set))\n",
    "    except:\n",
    "        pass\n",
    "    ax.set_title('Resonant Hamiltonian Evol for $z$='\n",
    "                 +str(z_set)+', $c=$'+str(c_set), fontsize=20)\n",
    "\n",
    "ax.set_xlabel('Energy', fontsize=18)\n",
    "ax.set_ylabel('<Z>  Expectation', fontsize=18)\n",
    "ax.legend(loc=3, fontsize=14)\n",
    "ax.plot()"
   ]
  },
  {
   "cell_type": "markdown",
   "id": "56970154",
   "metadata": {},
   "source": [
    "## Save Results"
   ]
  },
  {
   "cell_type": "code",
   "execution_count": null,
   "id": "c9af3b19",
   "metadata": {},
   "outputs": [],
   "source": [
    "save_data = False\n",
    "\n",
    "if save_data:\n",
    "    if exp_str == 't_sweep':\n",
    "        np.save('../data/SE_1trot_N_2_c_'+str(c_set)+'_dt_'+str(dt_analyze)+'_t_'+str(t_analyze)+'_w0_'+str(w0)+'_dw_'+str(dw)+'_m_'+str(m_set)+'_x_'+str(x_set)+'_y_'+str(y_set)+'_z_'+str(z_set),P0_w)\n",
    "        np.save('../data/w_N_2_c_'+str(c_set)+'_dt_'+str(dt_analyze)+'_t_'+str(t_analyze)+'_w0_'+str(w0)+'_dw_'+str(dw)+'_m_'+str(m_set)+'_x_'+str(x_set)+'_y_'+str(y_set)+'_z_'+str(z_set),w_range)\n",
    "        np.save('../data/decoder_N_2_c_'+str(c_set)+'_dt_'+str(dt_analyze)+'_t_'+str(t_analyze)+'_w0_'+str(w0)+'_dw_'+str(dw)+'_m_'+str(m_set)+'_x_'+str(x_set)+'_y_'+str(y_set)+'_z_'+str(z_set),param_decoder)\n",
    "    elif exp_str == 'c_sweep':\n",
    "        np.save('../data/DD/SE_1trot_N_2_c_'+str(c_analyze)+'_dt_'+str(dt_set)+'_t_'+str(t_set)+'_w0_'+str(w0)+'_dw_'+str(dw)+'_m_'+str(m_set)+'_x_'+str(x_set)+'_y_'+str(y_set)+'_z_'+str(z_set),P0_w)\n",
    "        np.save('../data/DD/w_N_2_c_'+str(c_analyze)+'_dt_'+str(dt_set)+'_t_'+str(t_set)+'_w0_'+str(w0)+'_dw_'+str(dw)+'_m_'+str(m_set)+'_x_'+str(x_set)+'_y_'+str(y_set)+'_z_'+str(z_set),w_range)\n",
    "        np.save('../data/DD/decoder_N_2_c_'+str(c_analyze)+'_dt_'+str(dt_set)+'_t_'+str(t_set)+'_w0_'+str(w0)+'_dw_'+str(dw)+'_m_'+str(m_set)+'_x_'+str(x_set)+'_y_'+str(y_set)+'_z_'+str(z_set),param_decoder)\n",
    "    elif exp_str == 'm_sweep':\n",
    "        np.save('../data/final-sweeps/2site/SE_1trot_N_2_c_'+str(c_set)+'_dt_'+str(dt_set)+'_t_'+str(t_set)+'_w0_'+str(w0)+'_dw_'+str(dw)+'_m_'+str(m_analyze)+'_x_'+str(x_set)+'_y_'+str(y_set)+'_z_'+str(z_set),P0_w)\n",
    "        np.save('../data/final-sweeps/2site/w_N_2_c_'+str(c_set)+'_dt_'+str(dt_set)+'_t_'+str(t_set)+'_w0_'+str(w0)+'_dw_'+str(dw)+'_m_'+str(m_analyze)+'_x_'+str(x_set)+'_y_'+str(y_set)+'_z_'+str(z_set),w_range)\n",
    "        np.save('../data/final-sweeps/2site/decoder_N_2_c_'+str(c_set)+'_dt_'+str(dt_set)+'_t_'+str(t_set)+'_w0_'+str(w0)+'_dw_'+str(dw)+'_m_'+str(m_analyze)+'_x_'+str(x_set)+'_y_'+str(y_set)+'_z_'+str(z_set),param_decoder)\n",
    "    elif exp_str == 'y_sweep':\n",
    "        np.save('../data/DD/SE_1trot_N_2_c_'+str(c_set)+'_dt_'+str(dt_set)+'_t_'+str(t_set)+'_w0_'+str(w0)+'_dw_'+str(dw)+'_m_'+str(m_set)+'_x_'+str(x_set)+'_y_'+str(y_analyze)+'_z_'+str(z_set),P0_w)\n",
    "        np.save('../data/DD/w_N_2_c_'+str(c_set)+'_dt_'+str(dt_set)+'_t_'+str(t_set)+'_w0_'+str(w0)+'_dw_'+str(dw)+'_m_'+str(m_set)+'_x_'+str(x_set)+'_y_'+str(y_analyze)+'_z_'+str(z_set),w_range)\n",
    "        np.save('../data/DD/decoder_N_2_c_'+str(c_set)+'_dt_'+str(dt_set)+'_t_'+str(t_set)+'_w0_'+str(w0)+'_dw_'+str(dw)+'_m_'+str(m_set)+'_x_'+str(x_set)+'_y_'+str(y_analyze)+'_z_'+str(z_set),param_decoder)"
   ]
  },
  {
   "cell_type": "markdown",
   "id": "c33bf2f5",
   "metadata": {},
   "source": [
    "# Qiskit Version Table"
   ]
  },
  {
   "cell_type": "code",
   "execution_count": null,
   "id": "c38d0902",
   "metadata": {},
   "outputs": [],
   "source": [
    "import qiskit.tools.jupyter\n",
    "%qiskit_version_table"
   ]
  }
 ],
 "metadata": {
  "kernelspec": {
   "display_name": "qiskit (research)",
   "language": "python",
   "name": "qiskit-research"
  },
  "language_info": {
   "codemirror_mode": {
    "name": "ipython",
    "version": 3
   },
   "file_extension": ".py",
   "mimetype": "text/x-python",
   "name": "python",
   "nbconvert_exporter": "python",
   "pygments_lexer": "ipython3",
   "version": "3.9.12"
  },
  "toc": {
   "base_numbering": 1,
   "nav_menu": {},
   "number_sections": true,
   "sideBar": true,
   "skip_h1_title": false,
   "title_cell": "Table of Contents",
   "title_sidebar": "Contents",
   "toc_cell": false,
   "toc_position": {
    "height": "calc(100% - 180px)",
    "left": "10px",
    "top": "150px",
    "width": "269.375px"
   },
   "toc_section_display": true,
   "toc_window_display": true
  }
 },
 "nbformat": 4,
 "nbformat_minor": 5
}
